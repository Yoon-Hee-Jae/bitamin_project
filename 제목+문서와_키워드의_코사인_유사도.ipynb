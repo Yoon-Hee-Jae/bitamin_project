{
  "nbformat": 4,
  "nbformat_minor": 0,
  "metadata": {
    "colab": {
      "provenance": [],
      "gpuType": "T4"
    },
    "kernelspec": {
      "name": "python3",
      "display_name": "Python 3"
    },
    "language_info": {
      "name": "python"
    },
    "accelerator": "GPU"
  },
  "cells": [
    {
      "cell_type": "code",
      "execution_count": 1,
      "metadata": {
        "id": "czkm_XppnLT_"
      },
      "outputs": [],
      "source": [
        "import pandas as pd"
      ]
    },
    {
      "cell_type": "code",
      "source": [
        "df = pd.read_excel(\"/content/drive/MyDrive/Colab Notebooks/ready_keyword.xlsx\")\n",
        "df.head()"
      ],
      "metadata": {
        "colab": {
          "base_uri": "https://localhost:8080/",
          "height": 511
        },
        "id": "z5x0DgphnVUT",
        "outputId": "d5e3c9ee-b6dc-4847-9b8f-227a5ff36fd5"
      },
      "execution_count": 2,
      "outputs": [
        {
          "output_type": "execute_result",
          "data": {
            "text/plain": [
              "   Unnamed: 0                 date  \\\n",
              "0           0  2023-07-13 06:01:30   \n",
              "1           1  2023-07-13 06:01:32   \n",
              "2           2  2023-07-13 06:01:33   \n",
              "3           3  2023-07-13 06:02:01   \n",
              "4           4  2023-07-13 06:02:01   \n",
              "\n",
              "                                         title  \\\n",
              "0  \"차라리 자진 말소하겠다\"...임대인들, 보증보험 요건 강화·명단 공개에 반발   \n",
              "1      [단맛의 세계]② “칼로리 안 낮은데?” 믿었던 ‘제로’ 마케팅의 배신   \n",
              "2          \"전세 사기보다 치솟은 월세가 더 무섭다\"…월세 수요 한풀 꺾여   \n",
              "3                  [마켓PRO 칼럼] 셈법 복잡해진 한국은행 금통위   \n",
              "4                일주일 만에 두 배 뛴 금양…시장서는 ‘이게 맞아?’   \n",
              "\n",
              "                                             content press  \\\n",
              "0  국토부, 7월 중 임대보증금 보증보험 가입요건 126% 강화 민간임대 특별법 시행령...   뉴시스   \n",
              "1  작년 9월 출시 후 선풍적인 인기를 끈 롯데칠성음료의 처음처럼 새로(이하 새로)는 ...  조선비즈   \n",
              "2  6월 기준 서울 전세비중 51%대 회복…월세 급등에 전세로 선회 전세대출 금리 3%...   뉴시스   \n",
              "3  ※한경 마켓PRO 텔레그램을 구독하시면 프리미엄 투자 콘텐츠를 보다 편리하게 볼 수...  한국경제   \n",
              "4  8거래일간 100% 넘게 뛰다 12일 10%대 급락 시총 6兆 근접…한국항공우주·L...  이데일리   \n",
              "\n",
              "                                                link  \\\n",
              "0  https://n.news.naver.com/mnews/article/003/001...   \n",
              "1  https://n.news.naver.com/mnews/article/366/000...   \n",
              "2  https://n.news.naver.com/mnews/article/003/001...   \n",
              "3  https://n.news.naver.com/mnews/article/015/000...   \n",
              "4  https://n.news.naver.com/mnews/article/018/000...   \n",
              "\n",
              "                                   title_p  \\\n",
              "0  차라리 자진 말소하겠다 임대인들, 보증보험 요건 강화 명단 공개에 반발   \n",
              "1          단맛의 세계 칼로리 안 낮은데 믿었던 제로 마케팅의 배신   \n",
              "2        전세 사기보다 치솟은 월세가 더 무섭다 월세 수요 한풀 꺾여   \n",
              "3                마켓PRO 칼럼 셈법 복잡해진 한국은행 금통위   \n",
              "4               일주일 만에 두 배 뛴 금양 시장서는 이게 맞아   \n",
              "\n",
              "                                           content_p   len  \\\n",
              "0  국토부, 7월 중 임대보증금 보증보험 가입요건 126퍼센트 강화 민간임대 특별법 시...  2081   \n",
              "1  작년 9월 출시 후 선풍적인 인기를 끈 롯데칠성음료의 처음처럼 새로 이하 새로 는 ...  1901   \n",
              "2  6월 기준 서울 전세비중 51퍼센트대 회복 월세 급등에 전세로 선회 전세대출 금리 ...  1850   \n",
              "3  한경 마켓PRO 텔레그램을 구독하시면 프리미엄 투자 콘텐츠를 보다 편리하게 볼 수 ...  1802   \n",
              "4  8거래일간 100퍼센트 넘게 뛰다 12일 10퍼센트대 급락 시총 6조 근접 한국항공...  1645   \n",
              "\n",
              "                                         collocation  \\\n",
              "0  [('2년 연속', 4), ('특별법 시행', 4), ('민간 임대주택', 4), ...   \n",
              "1                                     [('제로 슈거', 4)]   \n",
              "2  [('지난 5월', 4), ('임대 수요', 4), ('서울 아파트', 4), ('...   \n",
              "3       [('마켓 PRO', 4), ('소비자 물가', 4), ('금리 인상', 4)]   \n",
              "4                                    [('한국 거래소', 4)]   \n",
              "\n",
              "                                         TF-keywords  \\\n",
              "0  ['임대보증금', '공시가격의', '임대인', '특별법', '보증금', '임대인들이...   \n",
              "1  ['제로', '열량은', '말티톨은', '발암', '설탕', '아스파탐', '다이어...   \n",
              "2  ['월세', '전세', '대출', '아파트', '전세대출', '전세로', '수요가'...   \n",
              "3  ['듯하다', '소비자물가는', '안으로는', '금리인상을', '마켓pro', '여...   \n",
              "4  ['2차전지', '금양의', '공매도', '금양', '주가', '원을', '금양에'...   \n",
              "\n",
              "                                   new_key  \n",
              "0    ['임대보증금', '공시가격', '임대', '특별법', '보증금']  \n",
              "1          ['제로', '열량', '말티톨', '발암', '설탕']  \n",
              "2        ['월세', '전세', '대출', '아파트', '전세대출']  \n",
              "3  ['소비자물가', '금리인상', '마켓pro', '고용', '가운데']  \n",
              "4      ['금양', '공매도', '주가', '발포', '한국항공우주']  "
            ],
            "text/html": [
              "\n",
              "\n",
              "  <div id=\"df-21bd8710-e023-41a5-8f2d-58eaf977061b\">\n",
              "    <div class=\"colab-df-container\">\n",
              "      <div>\n",
              "<style scoped>\n",
              "    .dataframe tbody tr th:only-of-type {\n",
              "        vertical-align: middle;\n",
              "    }\n",
              "\n",
              "    .dataframe tbody tr th {\n",
              "        vertical-align: top;\n",
              "    }\n",
              "\n",
              "    .dataframe thead th {\n",
              "        text-align: right;\n",
              "    }\n",
              "</style>\n",
              "<table border=\"1\" class=\"dataframe\">\n",
              "  <thead>\n",
              "    <tr style=\"text-align: right;\">\n",
              "      <th></th>\n",
              "      <th>Unnamed: 0</th>\n",
              "      <th>date</th>\n",
              "      <th>title</th>\n",
              "      <th>content</th>\n",
              "      <th>press</th>\n",
              "      <th>link</th>\n",
              "      <th>title_p</th>\n",
              "      <th>content_p</th>\n",
              "      <th>len</th>\n",
              "      <th>collocation</th>\n",
              "      <th>TF-keywords</th>\n",
              "      <th>new_key</th>\n",
              "    </tr>\n",
              "  </thead>\n",
              "  <tbody>\n",
              "    <tr>\n",
              "      <th>0</th>\n",
              "      <td>0</td>\n",
              "      <td>2023-07-13 06:01:30</td>\n",
              "      <td>\"차라리 자진 말소하겠다\"...임대인들, 보증보험 요건 강화·명단 공개에 반발</td>\n",
              "      <td>국토부, 7월 중 임대보증금 보증보험 가입요건 126% 강화 민간임대 특별법 시행령...</td>\n",
              "      <td>뉴시스</td>\n",
              "      <td>https://n.news.naver.com/mnews/article/003/001...</td>\n",
              "      <td>차라리 자진 말소하겠다 임대인들, 보증보험 요건 강화 명단 공개에 반발</td>\n",
              "      <td>국토부, 7월 중 임대보증금 보증보험 가입요건 126퍼센트 강화 민간임대 특별법 시...</td>\n",
              "      <td>2081</td>\n",
              "      <td>[('2년 연속', 4), ('특별법 시행', 4), ('민간 임대주택', 4), ...</td>\n",
              "      <td>['임대보증금', '공시가격의', '임대인', '특별법', '보증금', '임대인들이...</td>\n",
              "      <td>['임대보증금', '공시가격', '임대', '특별법', '보증금']</td>\n",
              "    </tr>\n",
              "    <tr>\n",
              "      <th>1</th>\n",
              "      <td>1</td>\n",
              "      <td>2023-07-13 06:01:32</td>\n",
              "      <td>[단맛의 세계]② “칼로리 안 낮은데?” 믿었던 ‘제로’ 마케팅의 배신</td>\n",
              "      <td>작년 9월 출시 후 선풍적인 인기를 끈 롯데칠성음료의 처음처럼 새로(이하 새로)는 ...</td>\n",
              "      <td>조선비즈</td>\n",
              "      <td>https://n.news.naver.com/mnews/article/366/000...</td>\n",
              "      <td>단맛의 세계 칼로리 안 낮은데 믿었던 제로 마케팅의 배신</td>\n",
              "      <td>작년 9월 출시 후 선풍적인 인기를 끈 롯데칠성음료의 처음처럼 새로 이하 새로 는 ...</td>\n",
              "      <td>1901</td>\n",
              "      <td>[('제로 슈거', 4)]</td>\n",
              "      <td>['제로', '열량은', '말티톨은', '발암', '설탕', '아스파탐', '다이어...</td>\n",
              "      <td>['제로', '열량', '말티톨', '발암', '설탕']</td>\n",
              "    </tr>\n",
              "    <tr>\n",
              "      <th>2</th>\n",
              "      <td>2</td>\n",
              "      <td>2023-07-13 06:01:33</td>\n",
              "      <td>\"전세 사기보다 치솟은 월세가 더 무섭다\"…월세 수요 한풀 꺾여</td>\n",
              "      <td>6월 기준 서울 전세비중 51%대 회복…월세 급등에 전세로 선회 전세대출 금리 3%...</td>\n",
              "      <td>뉴시스</td>\n",
              "      <td>https://n.news.naver.com/mnews/article/003/001...</td>\n",
              "      <td>전세 사기보다 치솟은 월세가 더 무섭다 월세 수요 한풀 꺾여</td>\n",
              "      <td>6월 기준 서울 전세비중 51퍼센트대 회복 월세 급등에 전세로 선회 전세대출 금리 ...</td>\n",
              "      <td>1850</td>\n",
              "      <td>[('지난 5월', 4), ('임대 수요', 4), ('서울 아파트', 4), ('...</td>\n",
              "      <td>['월세', '전세', '대출', '아파트', '전세대출', '전세로', '수요가'...</td>\n",
              "      <td>['월세', '전세', '대출', '아파트', '전세대출']</td>\n",
              "    </tr>\n",
              "    <tr>\n",
              "      <th>3</th>\n",
              "      <td>3</td>\n",
              "      <td>2023-07-13 06:02:01</td>\n",
              "      <td>[마켓PRO 칼럼] 셈법 복잡해진 한국은행 금통위</td>\n",
              "      <td>※한경 마켓PRO 텔레그램을 구독하시면 프리미엄 투자 콘텐츠를 보다 편리하게 볼 수...</td>\n",
              "      <td>한국경제</td>\n",
              "      <td>https://n.news.naver.com/mnews/article/015/000...</td>\n",
              "      <td>마켓PRO 칼럼 셈법 복잡해진 한국은행 금통위</td>\n",
              "      <td>한경 마켓PRO 텔레그램을 구독하시면 프리미엄 투자 콘텐츠를 보다 편리하게 볼 수 ...</td>\n",
              "      <td>1802</td>\n",
              "      <td>[('마켓 PRO', 4), ('소비자 물가', 4), ('금리 인상', 4)]</td>\n",
              "      <td>['듯하다', '소비자물가는', '안으로는', '금리인상을', '마켓pro', '여...</td>\n",
              "      <td>['소비자물가', '금리인상', '마켓pro', '고용', '가운데']</td>\n",
              "    </tr>\n",
              "    <tr>\n",
              "      <th>4</th>\n",
              "      <td>4</td>\n",
              "      <td>2023-07-13 06:02:01</td>\n",
              "      <td>일주일 만에 두 배 뛴 금양…시장서는 ‘이게 맞아?’</td>\n",
              "      <td>8거래일간 100% 넘게 뛰다 12일 10%대 급락 시총 6兆 근접…한국항공우주·L...</td>\n",
              "      <td>이데일리</td>\n",
              "      <td>https://n.news.naver.com/mnews/article/018/000...</td>\n",
              "      <td>일주일 만에 두 배 뛴 금양 시장서는 이게 맞아</td>\n",
              "      <td>8거래일간 100퍼센트 넘게 뛰다 12일 10퍼센트대 급락 시총 6조 근접 한국항공...</td>\n",
              "      <td>1645</td>\n",
              "      <td>[('한국 거래소', 4)]</td>\n",
              "      <td>['2차전지', '금양의', '공매도', '금양', '주가', '원을', '금양에'...</td>\n",
              "      <td>['금양', '공매도', '주가', '발포', '한국항공우주']</td>\n",
              "    </tr>\n",
              "  </tbody>\n",
              "</table>\n",
              "</div>\n",
              "      <button class=\"colab-df-convert\" onclick=\"convertToInteractive('df-21bd8710-e023-41a5-8f2d-58eaf977061b')\"\n",
              "              title=\"Convert this dataframe to an interactive table.\"\n",
              "              style=\"display:none;\">\n",
              "\n",
              "  <svg xmlns=\"http://www.w3.org/2000/svg\" height=\"24px\"viewBox=\"0 0 24 24\"\n",
              "       width=\"24px\">\n",
              "    <path d=\"M0 0h24v24H0V0z\" fill=\"none\"/>\n",
              "    <path d=\"M18.56 5.44l.94 2.06.94-2.06 2.06-.94-2.06-.94-.94-2.06-.94 2.06-2.06.94zm-11 1L8.5 8.5l.94-2.06 2.06-.94-2.06-.94L8.5 2.5l-.94 2.06-2.06.94zm10 10l.94 2.06.94-2.06 2.06-.94-2.06-.94-.94-2.06-.94 2.06-2.06.94z\"/><path d=\"M17.41 7.96l-1.37-1.37c-.4-.4-.92-.59-1.43-.59-.52 0-1.04.2-1.43.59L10.3 9.45l-7.72 7.72c-.78.78-.78 2.05 0 2.83L4 21.41c.39.39.9.59 1.41.59.51 0 1.02-.2 1.41-.59l7.78-7.78 2.81-2.81c.8-.78.8-2.07 0-2.86zM5.41 20L4 18.59l7.72-7.72 1.47 1.35L5.41 20z\"/>\n",
              "  </svg>\n",
              "      </button>\n",
              "\n",
              "\n",
              "\n",
              "    <div id=\"df-8b7085fa-66a3-413f-b1a0-8fcaf464b161\">\n",
              "      <button class=\"colab-df-quickchart\" onclick=\"quickchart('df-8b7085fa-66a3-413f-b1a0-8fcaf464b161')\"\n",
              "              title=\"Suggest charts.\"\n",
              "              style=\"display:none;\">\n",
              "\n",
              "<svg xmlns=\"http://www.w3.org/2000/svg\" height=\"24px\"viewBox=\"0 0 24 24\"\n",
              "     width=\"24px\">\n",
              "    <g>\n",
              "        <path d=\"M19 3H5c-1.1 0-2 .9-2 2v14c0 1.1.9 2 2 2h14c1.1 0 2-.9 2-2V5c0-1.1-.9-2-2-2zM9 17H7v-7h2v7zm4 0h-2V7h2v10zm4 0h-2v-4h2v4z\"/>\n",
              "    </g>\n",
              "</svg>\n",
              "      </button>\n",
              "    </div>\n",
              "\n",
              "<style>\n",
              "  .colab-df-quickchart {\n",
              "    background-color: #E8F0FE;\n",
              "    border: none;\n",
              "    border-radius: 50%;\n",
              "    cursor: pointer;\n",
              "    display: none;\n",
              "    fill: #1967D2;\n",
              "    height: 32px;\n",
              "    padding: 0 0 0 0;\n",
              "    width: 32px;\n",
              "  }\n",
              "\n",
              "  .colab-df-quickchart:hover {\n",
              "    background-color: #E2EBFA;\n",
              "    box-shadow: 0px 1px 2px rgba(60, 64, 67, 0.3), 0px 1px 3px 1px rgba(60, 64, 67, 0.15);\n",
              "    fill: #174EA6;\n",
              "  }\n",
              "\n",
              "  [theme=dark] .colab-df-quickchart {\n",
              "    background-color: #3B4455;\n",
              "    fill: #D2E3FC;\n",
              "  }\n",
              "\n",
              "  [theme=dark] .colab-df-quickchart:hover {\n",
              "    background-color: #434B5C;\n",
              "    box-shadow: 0px 1px 3px 1px rgba(0, 0, 0, 0.15);\n",
              "    filter: drop-shadow(0px 1px 2px rgba(0, 0, 0, 0.3));\n",
              "    fill: #FFFFFF;\n",
              "  }\n",
              "</style>\n",
              "\n",
              "    <script>\n",
              "      async function quickchart(key) {\n",
              "        const containerElement = document.querySelector('#' + key);\n",
              "        const charts = await google.colab.kernel.invokeFunction(\n",
              "            'suggestCharts', [key], {});\n",
              "      }\n",
              "    </script>\n",
              "\n",
              "      <script>\n",
              "\n",
              "function displayQuickchartButton(domScope) {\n",
              "  let quickchartButtonEl =\n",
              "    domScope.querySelector('#df-8b7085fa-66a3-413f-b1a0-8fcaf464b161 button.colab-df-quickchart');\n",
              "  quickchartButtonEl.style.display =\n",
              "    google.colab.kernel.accessAllowed ? 'block' : 'none';\n",
              "}\n",
              "\n",
              "        displayQuickchartButton(document);\n",
              "      </script>\n",
              "      <style>\n",
              "    .colab-df-container {\n",
              "      display:flex;\n",
              "      flex-wrap:wrap;\n",
              "      gap: 12px;\n",
              "    }\n",
              "\n",
              "    .colab-df-convert {\n",
              "      background-color: #E8F0FE;\n",
              "      border: none;\n",
              "      border-radius: 50%;\n",
              "      cursor: pointer;\n",
              "      display: none;\n",
              "      fill: #1967D2;\n",
              "      height: 32px;\n",
              "      padding: 0 0 0 0;\n",
              "      width: 32px;\n",
              "    }\n",
              "\n",
              "    .colab-df-convert:hover {\n",
              "      background-color: #E2EBFA;\n",
              "      box-shadow: 0px 1px 2px rgba(60, 64, 67, 0.3), 0px 1px 3px 1px rgba(60, 64, 67, 0.15);\n",
              "      fill: #174EA6;\n",
              "    }\n",
              "\n",
              "    [theme=dark] .colab-df-convert {\n",
              "      background-color: #3B4455;\n",
              "      fill: #D2E3FC;\n",
              "    }\n",
              "\n",
              "    [theme=dark] .colab-df-convert:hover {\n",
              "      background-color: #434B5C;\n",
              "      box-shadow: 0px 1px 3px 1px rgba(0, 0, 0, 0.15);\n",
              "      filter: drop-shadow(0px 1px 2px rgba(0, 0, 0, 0.3));\n",
              "      fill: #FFFFFF;\n",
              "    }\n",
              "  </style>\n",
              "\n",
              "      <script>\n",
              "        const buttonEl =\n",
              "          document.querySelector('#df-21bd8710-e023-41a5-8f2d-58eaf977061b button.colab-df-convert');\n",
              "        buttonEl.style.display =\n",
              "          google.colab.kernel.accessAllowed ? 'block' : 'none';\n",
              "\n",
              "        async function convertToInteractive(key) {\n",
              "          const element = document.querySelector('#df-21bd8710-e023-41a5-8f2d-58eaf977061b');\n",
              "          const dataTable =\n",
              "            await google.colab.kernel.invokeFunction('convertToInteractive',\n",
              "                                                     [key], {});\n",
              "          if (!dataTable) return;\n",
              "\n",
              "          const docLinkHtml = 'Like what you see? Visit the ' +\n",
              "            '<a target=\"_blank\" href=https://colab.research.google.com/notebooks/data_table.ipynb>data table notebook</a>'\n",
              "            + ' to learn more about interactive tables.';\n",
              "          element.innerHTML = '';\n",
              "          dataTable['output_type'] = 'display_data';\n",
              "          await google.colab.output.renderOutput(dataTable, element);\n",
              "          const docLink = document.createElement('div');\n",
              "          docLink.innerHTML = docLinkHtml;\n",
              "          element.appendChild(docLink);\n",
              "        }\n",
              "      </script>\n",
              "    </div>\n",
              "  </div>\n"
            ]
          },
          "metadata": {},
          "execution_count": 2
        }
      ]
    },
    {
      "cell_type": "code",
      "source": [
        "# 데이터 전처리 - 1. collocation열에 있는 [],() 그리고 숫자를 지워서 ''안에 있는 텍스트만 남기도록함"
      ],
      "metadata": {
        "id": "n-jha_Fto_zY"
      },
      "execution_count": null,
      "outputs": []
    },
    {
      "cell_type": "code",
      "source": [
        "df['collocation'][5]"
      ],
      "metadata": {
        "colab": {
          "base_uri": "https://localhost:8080/",
          "height": 36
        },
        "id": "lG14wOExpjCl",
        "outputId": "6e0b21d8-edec-4012-e1f0-39392eb7b71b"
      },
      "execution_count": 3,
      "outputs": [
        {
          "output_type": "execute_result",
          "data": {
            "text/plain": [
              "\"[('주당 0.2', 4), ('으로 유상증자', 4)]\""
            ],
            "application/vnd.google.colaboratory.intrinsic+json": {
              "type": "string"
            }
          },
          "metadata": {},
          "execution_count": 3
        }
      ]
    },
    {
      "cell_type": "code",
      "source": [
        "import re\n",
        "\n",
        "# 정규표현식을 사용하여 '' 사이에 있는 텍스트 추출\n",
        "pattern = r\"''(.*?)''\"\n",
        "df['collocation'] = df['collocation'].apply(lambda x: [(re.findall(pattern, item)[0] if re.findall(pattern, item) else item) for item in x])\n",
        "\n",
        "print(df['collocation'][5])"
      ],
      "metadata": {
        "colab": {
          "base_uri": "https://localhost:8080/"
        },
        "id": "glStFhLAskkE",
        "outputId": "cba10d7a-cf77-4ed1-d180-c9affe9c5dbb"
      },
      "execution_count": 4,
      "outputs": [
        {
          "output_type": "stream",
          "name": "stdout",
          "text": [
            "['[', '(', \"'\", '주', '당', ' ', '0', '.', '2', \"'\", ',', ' ', '4', ')', ',', ' ', '(', \"'\", '으', '로', ' ', '유', '상', '증', '자', \"'\", ',', ' ', '4', ')', ']']\n"
          ]
        }
      ]
    },
    {
      "cell_type": "code",
      "source": [
        "for i in range(len(df['collocation'])):\n",
        "\n",
        "  data = df['collocation'][i]\n",
        "\n",
        "  # 정규표현식을 사용하여 '' 사이에 있는 텍스트만 추출\n",
        "  pattern = r\"'(.*?)'\"\n",
        "  extracted_text = re.findall(pattern, ''.join(data))\n",
        "\n",
        "  df['collocation'][i] = extracted_text\n",
        "\n",
        "df['collocation']"
      ],
      "metadata": {
        "colab": {
          "base_uri": "https://localhost:8080/"
        },
        "id": "LSEj43rwu4j5",
        "outputId": "5ca5db84-a5cd-489e-a306-21ed5d24108b"
      },
      "execution_count": 5,
      "outputs": [
        {
          "output_type": "stream",
          "name": "stderr",
          "text": [
            "<ipython-input-5-ab7b616521ef>:9: SettingWithCopyWarning: \n",
            "A value is trying to be set on a copy of a slice from a DataFrame\n",
            "\n",
            "See the caveats in the documentation: https://pandas.pydata.org/pandas-docs/stable/user_guide/indexing.html#returning-a-view-versus-a-copy\n",
            "  df['collocation'][i] = extracted_text\n"
          ]
        },
        {
          "output_type": "execute_result",
          "data": {
            "text/plain": [
              "0       [2년 연속, 특별법 시행, 민간 임대주택, 126 퍼센트, 보증 보험, 등록 말소...\n",
              "1                                                 [제로 슈거]\n",
              "2       [지난 5월, 임대 수요, 서울 아파트, 퍼센트 대로, 대출 규제, 대출 금리, 평...\n",
              "3                                 [마켓 PRO, 소비자 물가, 금리 인상]\n",
              "4                                                [한국 거래소]\n",
              "                              ...                        \n",
              "1568    [보험 청구, 실업 보험, 연방 준비, 생산자 물가, 전장 보다, 500 지수, 으...\n",
              "1569             [IFRS 17, 수입 보험료, 보험 연구원, 손해 보험사, 손해 보험]\n",
              "1570                 [오퍼 레이, 실적 개선, 기업 가치, 신임 대표, IMM PE]\n",
              "1571    [미래 수익, 예상 보다, 대형 기술, 물가 지수, 금리 인상, 시장 예상, 퍼센트...\n",
              "1572    [배경 설명, 부동산 시장, 가계 대출, GDP 대비, 대출 증가, 기적 으로, 가...\n",
              "Name: collocation, Length: 1573, dtype: object"
            ]
          },
          "metadata": {},
          "execution_count": 5
        }
      ]
    },
    {
      "cell_type": "code",
      "source": [
        "# 데이터 전처리 - 2. TF-IDF로 추출한 키워드와 collocation으로 추출한 키워드를 하나의 열에 중복을 제거하여 저장해줌\n",
        "# TF-IDF = new_key // collocation = collocation\n",
        "df[['new_key','collocation']]"
      ],
      "metadata": {
        "colab": {
          "base_uri": "https://localhost:8080/",
          "height": 424
        },
        "id": "MFVL_SDdpQz6",
        "outputId": "0af20092-9412-4a12-80f6-8bfcef384613"
      },
      "execution_count": 6,
      "outputs": [
        {
          "output_type": "execute_result",
          "data": {
            "text/plain": [
              "                                      new_key  \\\n",
              "0       ['임대보증금', '공시가격', '임대', '특별법', '보증금']   \n",
              "1             ['제로', '열량', '말티톨', '발암', '설탕']   \n",
              "2           ['월세', '전세', '대출', '아파트', '전세대출']   \n",
              "3     ['소비자물가', '금리인상', '마켓pro', '고용', '가운데']   \n",
              "4         ['금양', '공매도', '주가', '발포', '한국항공우주']   \n",
              "...                                       ...   \n",
              "1568         ['주간', '전장', '금리', '불러드', '투자자']   \n",
              "1569    ['수입보험료', '보험사', 'csm', 'csm은', '보험']   \n",
              "1570         ['imm', 'pe', '신임', '김유진', '경영']   \n",
              "1571    ['아마존', '금리인상', '일비', '로웬가트', '54달러']   \n",
              "1572       ['가계부채', '총재', 'gdp', '부동산', '배경']   \n",
              "\n",
              "                                            collocation  \n",
              "0     [2년 연속, 특별법 시행, 민간 임대주택, 126 퍼센트, 보증 보험, 등록 말소...  \n",
              "1                                               [제로 슈거]  \n",
              "2     [지난 5월, 임대 수요, 서울 아파트, 퍼센트 대로, 대출 규제, 대출 금리, 평...  \n",
              "3                               [마켓 PRO, 소비자 물가, 금리 인상]  \n",
              "4                                              [한국 거래소]  \n",
              "...                                                 ...  \n",
              "1568  [보험 청구, 실업 보험, 연방 준비, 생산자 물가, 전장 보다, 500 지수, 으...  \n",
              "1569           [IFRS 17, 수입 보험료, 보험 연구원, 손해 보험사, 손해 보험]  \n",
              "1570               [오퍼 레이, 실적 개선, 기업 가치, 신임 대표, IMM PE]  \n",
              "1571  [미래 수익, 예상 보다, 대형 기술, 물가 지수, 금리 인상, 시장 예상, 퍼센트...  \n",
              "1572  [배경 설명, 부동산 시장, 가계 대출, GDP 대비, 대출 증가, 기적 으로, 가...  \n",
              "\n",
              "[1573 rows x 2 columns]"
            ],
            "text/html": [
              "\n",
              "\n",
              "  <div id=\"df-f3367e1c-33af-4f53-a4bb-0006bd008902\">\n",
              "    <div class=\"colab-df-container\">\n",
              "      <div>\n",
              "<style scoped>\n",
              "    .dataframe tbody tr th:only-of-type {\n",
              "        vertical-align: middle;\n",
              "    }\n",
              "\n",
              "    .dataframe tbody tr th {\n",
              "        vertical-align: top;\n",
              "    }\n",
              "\n",
              "    .dataframe thead th {\n",
              "        text-align: right;\n",
              "    }\n",
              "</style>\n",
              "<table border=\"1\" class=\"dataframe\">\n",
              "  <thead>\n",
              "    <tr style=\"text-align: right;\">\n",
              "      <th></th>\n",
              "      <th>new_key</th>\n",
              "      <th>collocation</th>\n",
              "    </tr>\n",
              "  </thead>\n",
              "  <tbody>\n",
              "    <tr>\n",
              "      <th>0</th>\n",
              "      <td>['임대보증금', '공시가격', '임대', '특별법', '보증금']</td>\n",
              "      <td>[2년 연속, 특별법 시행, 민간 임대주택, 126 퍼센트, 보증 보험, 등록 말소...</td>\n",
              "    </tr>\n",
              "    <tr>\n",
              "      <th>1</th>\n",
              "      <td>['제로', '열량', '말티톨', '발암', '설탕']</td>\n",
              "      <td>[제로 슈거]</td>\n",
              "    </tr>\n",
              "    <tr>\n",
              "      <th>2</th>\n",
              "      <td>['월세', '전세', '대출', '아파트', '전세대출']</td>\n",
              "      <td>[지난 5월, 임대 수요, 서울 아파트, 퍼센트 대로, 대출 규제, 대출 금리, 평...</td>\n",
              "    </tr>\n",
              "    <tr>\n",
              "      <th>3</th>\n",
              "      <td>['소비자물가', '금리인상', '마켓pro', '고용', '가운데']</td>\n",
              "      <td>[마켓 PRO, 소비자 물가, 금리 인상]</td>\n",
              "    </tr>\n",
              "    <tr>\n",
              "      <th>4</th>\n",
              "      <td>['금양', '공매도', '주가', '발포', '한국항공우주']</td>\n",
              "      <td>[한국 거래소]</td>\n",
              "    </tr>\n",
              "    <tr>\n",
              "      <th>...</th>\n",
              "      <td>...</td>\n",
              "      <td>...</td>\n",
              "    </tr>\n",
              "    <tr>\n",
              "      <th>1568</th>\n",
              "      <td>['주간', '전장', '금리', '불러드', '투자자']</td>\n",
              "      <td>[보험 청구, 실업 보험, 연방 준비, 생산자 물가, 전장 보다, 500 지수, 으...</td>\n",
              "    </tr>\n",
              "    <tr>\n",
              "      <th>1569</th>\n",
              "      <td>['수입보험료', '보험사', 'csm', 'csm은', '보험']</td>\n",
              "      <td>[IFRS 17, 수입 보험료, 보험 연구원, 손해 보험사, 손해 보험]</td>\n",
              "    </tr>\n",
              "    <tr>\n",
              "      <th>1570</th>\n",
              "      <td>['imm', 'pe', '신임', '김유진', '경영']</td>\n",
              "      <td>[오퍼 레이, 실적 개선, 기업 가치, 신임 대표, IMM PE]</td>\n",
              "    </tr>\n",
              "    <tr>\n",
              "      <th>1571</th>\n",
              "      <td>['아마존', '금리인상', '일비', '로웬가트', '54달러']</td>\n",
              "      <td>[미래 수익, 예상 보다, 대형 기술, 물가 지수, 금리 인상, 시장 예상, 퍼센트...</td>\n",
              "    </tr>\n",
              "    <tr>\n",
              "      <th>1572</th>\n",
              "      <td>['가계부채', '총재', 'gdp', '부동산', '배경']</td>\n",
              "      <td>[배경 설명, 부동산 시장, 가계 대출, GDP 대비, 대출 증가, 기적 으로, 가...</td>\n",
              "    </tr>\n",
              "  </tbody>\n",
              "</table>\n",
              "<p>1573 rows × 2 columns</p>\n",
              "</div>\n",
              "      <button class=\"colab-df-convert\" onclick=\"convertToInteractive('df-f3367e1c-33af-4f53-a4bb-0006bd008902')\"\n",
              "              title=\"Convert this dataframe to an interactive table.\"\n",
              "              style=\"display:none;\">\n",
              "\n",
              "  <svg xmlns=\"http://www.w3.org/2000/svg\" height=\"24px\"viewBox=\"0 0 24 24\"\n",
              "       width=\"24px\">\n",
              "    <path d=\"M0 0h24v24H0V0z\" fill=\"none\"/>\n",
              "    <path d=\"M18.56 5.44l.94 2.06.94-2.06 2.06-.94-2.06-.94-.94-2.06-.94 2.06-2.06.94zm-11 1L8.5 8.5l.94-2.06 2.06-.94-2.06-.94L8.5 2.5l-.94 2.06-2.06.94zm10 10l.94 2.06.94-2.06 2.06-.94-2.06-.94-.94-2.06-.94 2.06-2.06.94z\"/><path d=\"M17.41 7.96l-1.37-1.37c-.4-.4-.92-.59-1.43-.59-.52 0-1.04.2-1.43.59L10.3 9.45l-7.72 7.72c-.78.78-.78 2.05 0 2.83L4 21.41c.39.39.9.59 1.41.59.51 0 1.02-.2 1.41-.59l7.78-7.78 2.81-2.81c.8-.78.8-2.07 0-2.86zM5.41 20L4 18.59l7.72-7.72 1.47 1.35L5.41 20z\"/>\n",
              "  </svg>\n",
              "      </button>\n",
              "\n",
              "\n",
              "\n",
              "    <div id=\"df-de32bd60-809c-4eff-99a9-d2ec83be8b26\">\n",
              "      <button class=\"colab-df-quickchart\" onclick=\"quickchart('df-de32bd60-809c-4eff-99a9-d2ec83be8b26')\"\n",
              "              title=\"Suggest charts.\"\n",
              "              style=\"display:none;\">\n",
              "\n",
              "<svg xmlns=\"http://www.w3.org/2000/svg\" height=\"24px\"viewBox=\"0 0 24 24\"\n",
              "     width=\"24px\">\n",
              "    <g>\n",
              "        <path d=\"M19 3H5c-1.1 0-2 .9-2 2v14c0 1.1.9 2 2 2h14c1.1 0 2-.9 2-2V5c0-1.1-.9-2-2-2zM9 17H7v-7h2v7zm4 0h-2V7h2v10zm4 0h-2v-4h2v4z\"/>\n",
              "    </g>\n",
              "</svg>\n",
              "      </button>\n",
              "    </div>\n",
              "\n",
              "<style>\n",
              "  .colab-df-quickchart {\n",
              "    background-color: #E8F0FE;\n",
              "    border: none;\n",
              "    border-radius: 50%;\n",
              "    cursor: pointer;\n",
              "    display: none;\n",
              "    fill: #1967D2;\n",
              "    height: 32px;\n",
              "    padding: 0 0 0 0;\n",
              "    width: 32px;\n",
              "  }\n",
              "\n",
              "  .colab-df-quickchart:hover {\n",
              "    background-color: #E2EBFA;\n",
              "    box-shadow: 0px 1px 2px rgba(60, 64, 67, 0.3), 0px 1px 3px 1px rgba(60, 64, 67, 0.15);\n",
              "    fill: #174EA6;\n",
              "  }\n",
              "\n",
              "  [theme=dark] .colab-df-quickchart {\n",
              "    background-color: #3B4455;\n",
              "    fill: #D2E3FC;\n",
              "  }\n",
              "\n",
              "  [theme=dark] .colab-df-quickchart:hover {\n",
              "    background-color: #434B5C;\n",
              "    box-shadow: 0px 1px 3px 1px rgba(0, 0, 0, 0.15);\n",
              "    filter: drop-shadow(0px 1px 2px rgba(0, 0, 0, 0.3));\n",
              "    fill: #FFFFFF;\n",
              "  }\n",
              "</style>\n",
              "\n",
              "    <script>\n",
              "      async function quickchart(key) {\n",
              "        const containerElement = document.querySelector('#' + key);\n",
              "        const charts = await google.colab.kernel.invokeFunction(\n",
              "            'suggestCharts', [key], {});\n",
              "      }\n",
              "    </script>\n",
              "\n",
              "      <script>\n",
              "\n",
              "function displayQuickchartButton(domScope) {\n",
              "  let quickchartButtonEl =\n",
              "    domScope.querySelector('#df-de32bd60-809c-4eff-99a9-d2ec83be8b26 button.colab-df-quickchart');\n",
              "  quickchartButtonEl.style.display =\n",
              "    google.colab.kernel.accessAllowed ? 'block' : 'none';\n",
              "}\n",
              "\n",
              "        displayQuickchartButton(document);\n",
              "      </script>\n",
              "      <style>\n",
              "    .colab-df-container {\n",
              "      display:flex;\n",
              "      flex-wrap:wrap;\n",
              "      gap: 12px;\n",
              "    }\n",
              "\n",
              "    .colab-df-convert {\n",
              "      background-color: #E8F0FE;\n",
              "      border: none;\n",
              "      border-radius: 50%;\n",
              "      cursor: pointer;\n",
              "      display: none;\n",
              "      fill: #1967D2;\n",
              "      height: 32px;\n",
              "      padding: 0 0 0 0;\n",
              "      width: 32px;\n",
              "    }\n",
              "\n",
              "    .colab-df-convert:hover {\n",
              "      background-color: #E2EBFA;\n",
              "      box-shadow: 0px 1px 2px rgba(60, 64, 67, 0.3), 0px 1px 3px 1px rgba(60, 64, 67, 0.15);\n",
              "      fill: #174EA6;\n",
              "    }\n",
              "\n",
              "    [theme=dark] .colab-df-convert {\n",
              "      background-color: #3B4455;\n",
              "      fill: #D2E3FC;\n",
              "    }\n",
              "\n",
              "    [theme=dark] .colab-df-convert:hover {\n",
              "      background-color: #434B5C;\n",
              "      box-shadow: 0px 1px 3px 1px rgba(0, 0, 0, 0.15);\n",
              "      filter: drop-shadow(0px 1px 2px rgba(0, 0, 0, 0.3));\n",
              "      fill: #FFFFFF;\n",
              "    }\n",
              "  </style>\n",
              "\n",
              "      <script>\n",
              "        const buttonEl =\n",
              "          document.querySelector('#df-f3367e1c-33af-4f53-a4bb-0006bd008902 button.colab-df-convert');\n",
              "        buttonEl.style.display =\n",
              "          google.colab.kernel.accessAllowed ? 'block' : 'none';\n",
              "\n",
              "        async function convertToInteractive(key) {\n",
              "          const element = document.querySelector('#df-f3367e1c-33af-4f53-a4bb-0006bd008902');\n",
              "          const dataTable =\n",
              "            await google.colab.kernel.invokeFunction('convertToInteractive',\n",
              "                                                     [key], {});\n",
              "          if (!dataTable) return;\n",
              "\n",
              "          const docLinkHtml = 'Like what you see? Visit the ' +\n",
              "            '<a target=\"_blank\" href=https://colab.research.google.com/notebooks/data_table.ipynb>data table notebook</a>'\n",
              "            + ' to learn more about interactive tables.';\n",
              "          element.innerHTML = '';\n",
              "          dataTable['output_type'] = 'display_data';\n",
              "          await google.colab.output.renderOutput(dataTable, element);\n",
              "          const docLink = document.createElement('div');\n",
              "          docLink.innerHTML = docLinkHtml;\n",
              "          element.appendChild(docLink);\n",
              "        }\n",
              "      </script>\n",
              "    </div>\n",
              "  </div>\n"
            ]
          },
          "metadata": {},
          "execution_count": 6
        }
      ]
    },
    {
      "cell_type": "code",
      "source": [
        "# 두 개의 데이터 타입이 다름\n",
        "print(type(df['collocation'][0]))\n",
        "print(type(df['new_key'][0]))"
      ],
      "metadata": {
        "colab": {
          "base_uri": "https://localhost:8080/"
        },
        "id": "aFg0ENE2xZ-X",
        "outputId": "b19b00a8-ad98-4690-8dd8-f9f6723e7284"
      },
      "execution_count": 7,
      "outputs": [
        {
          "output_type": "stream",
          "name": "stdout",
          "text": [
            "<class 'list'>\n",
            "<class 'str'>\n"
          ]
        }
      ]
    },
    {
      "cell_type": "code",
      "source": [
        "# df['new_key']를 리스트로 변환해주기\n",
        "import ast\n",
        "\n",
        "df['new_key'] = df['new_key'].apply(ast.literal_eval)"
      ],
      "metadata": {
        "id": "fdj7mRvHyN_W"
      },
      "execution_count": 8,
      "outputs": []
    },
    {
      "cell_type": "code",
      "source": [
        "# 둘 다 list 형식을 지니고 있음을 확인\n",
        "print(type(df['collocation'][0]))\n",
        "print(type(df['new_key'][0]))"
      ],
      "metadata": {
        "colab": {
          "base_uri": "https://localhost:8080/"
        },
        "id": "pvp9WFd2ypJp",
        "outputId": "453129b0-5545-4e7b-dcab-67c1d8f37ae7"
      },
      "execution_count": 9,
      "outputs": [
        {
          "output_type": "stream",
          "name": "stdout",
          "text": [
            "<class 'list'>\n",
            "<class 'list'>\n"
          ]
        }
      ]
    },
    {
      "cell_type": "code",
      "source": [
        "# 두 열을 합쳐서 저장할 새로운 열 생성\n",
        "df['merged_col'] = None"
      ],
      "metadata": {
        "id": "_MjjRi6LwICs"
      },
      "execution_count": 10,
      "outputs": []
    },
    {
      "cell_type": "code",
      "source": [
        "# 새로 만든 열에 합쳐서 저장\n",
        "df['merged_col'] = df.apply(lambda row: row['new_key'] + row['collocation'], axis=1)"
      ],
      "metadata": {
        "id": "Na0-xkNGwRG3"
      },
      "execution_count": 11,
      "outputs": []
    },
    {
      "cell_type": "code",
      "source": [
        "# 중복을 제거하기 위해서 set 사용\n",
        "df['merged_col'] = df['merged_col'].apply(lambda x: list(set(x)))"
      ],
      "metadata": {
        "id": "vi3d7k4nyxcl"
      },
      "execution_count": 12,
      "outputs": []
    },
    {
      "cell_type": "code",
      "source": [
        "df['merged_col'].head()"
      ],
      "metadata": {
        "colab": {
          "base_uri": "https://localhost:8080/"
        },
        "id": "aVucoqCozZVd",
        "outputId": "e50f69d2-7132-495e-aaab-dc4bd8a36912"
      },
      "execution_count": 13,
      "outputs": [
        {
          "output_type": "execute_result",
          "data": {
            "text/plain": [
              "0    [전세 보증금 반환, 126 퍼센트, 특별법 시행, 보증 보험 가입, 등록 말소, ...\n",
              "1                         [열량, 말티톨, 제로, 제로 슈거, 발암, 설탕]\n",
              "2    [월세 가격, 대출, 서울 아파트, 임대 수요, 아파트, 대출 규제, 아파트 월세,...\n",
              "3    [가운데, 소비자물가, 고용, 소비자 물가, 마켓pro, 마켓 PRO, 금리 인상,...\n",
              "4                    [한국 거래소, 금양, 한국항공우주, 주가, 발포, 공매도]\n",
              "Name: merged_col, dtype: object"
            ]
          },
          "metadata": {},
          "execution_count": 13
        }
      ]
    },
    {
      "cell_type": "code",
      "source": [
        "# 필요한 라이브러리 불러오기\n",
        "from sklearn.feature_extraction.text import TfidfVectorizer\n",
        "from sklearn.metrics.pairwise import cosine_similarity\n",
        "import numpy as np\n",
        "from sklearn.preprocessing import normalize"
      ],
      "metadata": {
        "id": "gsgihX59nVXv"
      },
      "execution_count": 14,
      "outputs": []
    },
    {
      "cell_type": "code",
      "source": [
        "# 벡터화를 위해서 tf-idf 사용\n",
        "tfidf_vectorizer = TfidfVectorizer()"
      ],
      "metadata": {
        "id": "uxQbSJx5nVlb"
      },
      "execution_count": 15,
      "outputs": []
    },
    {
      "cell_type": "code",
      "source": [
        "for i in range(len(df)):\n",
        "  #  제목, 본문, 키워드 후보 데이터\n",
        "  title = df['title_p'][i]\n",
        "  body = df['content_p'][i]\n",
        "  keyword_candidates = df['merged_col'][i]\n",
        "\n",
        "  # TF-IDF 벡터화 객체 생성\n",
        "  tfidf_vectorizer = TfidfVectorizer()\n",
        "\n",
        "  # 제목과 본문을 따로 TF-IDF 벡터화\n",
        "  title_vector = tfidf_vectorizer.fit_transform([title])\n",
        "  body_vector = tfidf_vectorizer.transform([body])\n",
        "\n",
        "  # 키워드 후보들을 TF-IDF 벡터화\n",
        "  keyword_candidate_vectors = tfidf_vectorizer.transform(keyword_candidates)\n",
        "\n",
        "  # 제목과 본문의 TF-IDF 벡터를 가중합(Weighted Sum) 및 정규화(Normalization)하여 의미 벡터 생성\n",
        "  alpha = 0.7  # 제목 벡터 가중치 (0과 1 사이의 값을 선택)\n",
        "  beta = 0.3   # 본문 벡터 가중치 (0과 1 사이의 값을 선택)\n",
        "\n",
        "  title_vector = title_vector.toarray()\n",
        "  body_vector = body_vector.toarray()\n",
        "  title_body_vector = alpha * title_vector + beta * body_vector\n",
        "\n",
        "  # 정규화(Normalization)하여 의미 벡터를 단위 벡터로 변환\n",
        "  title_body_vector = normalize(title_body_vector)[0]\n",
        "\n",
        "  # 키워드 후보 벡터와의 의미 유사도를 측정하여 Top-K개의 키워드 선정\n",
        "  k = 3  # Top-K 개수를 선택해주세요\n",
        "\n",
        "def cosine_similarity(vec1, vec2):\n",
        "  dot_product = np.dot(vec1, vec2)\n",
        "  norm_vec1 = np.linalg.norm(vec1)\n",
        "  norm_vec2 = np.linalg.norm(vec2)\n",
        "  return dot_product / (norm_vec1 * norm_vec2)\n",
        "\n",
        "similarity_scores = [cosine_similarity(title_body_vector, candidate.toarray()[0]) for candidate in keyword_candidate_vectors]\n",
        "top_k_indices = np.argsort(similarity_scores)[-k:]\n",
        "selected_keywords = [keyword_candidates[i] for i in top_k_indices]\n",
        "\n",
        "print(\"선택된 키워드:\")\n",
        "for keyword in selected_keywords:\n",
        "    print(keyword)\n",
        "# TF-IDF는 기본적으로 여러 개의 문서를 사용하는 방법이기 때문에 현재 진행하는 과제와는 맞지 않다고 판단"
      ],
      "metadata": {
        "colab": {
          "base_uri": "https://localhost:8080/"
        },
        "id": "-hUu4JHjnVr1",
        "outputId": "cc252ce2-2465-4582-a280-7bba4b97e5d1"
      },
      "execution_count": 86,
      "outputs": [
        {
          "output_type": "stream",
          "name": "stdout",
          "text": [
            "선택된 키워드:\n",
            "보증금\n",
            "임대 보증금 보증 보험\n",
            "보험 가입\n"
          ]
        },
        {
          "output_type": "stream",
          "name": "stderr",
          "text": [
            "<ipython-input-86-95e954a2df53>:37: RuntimeWarning: invalid value encountered in double_scalars\n",
            "  return dot_product / (norm_vec1 * norm_vec2)\n"
          ]
        }
      ]
    },
    {
      "cell_type": "code",
      "source": [
        "pip install transformers"
      ],
      "metadata": {
        "colab": {
          "base_uri": "https://localhost:8080/"
        },
        "id": "5ZkIypwa8qQt",
        "outputId": "0e79698f-a287-4f5f-a50a-a3e17ec89457"
      },
      "execution_count": 16,
      "outputs": [
        {
          "output_type": "stream",
          "name": "stdout",
          "text": [
            "Requirement already satisfied: transformers in /usr/local/lib/python3.10/dist-packages (4.31.0)\n",
            "Requirement already satisfied: filelock in /usr/local/lib/python3.10/dist-packages (from transformers) (3.12.2)\n",
            "Requirement already satisfied: huggingface-hub<1.0,>=0.14.1 in /usr/local/lib/python3.10/dist-packages (from transformers) (0.16.4)\n",
            "Requirement already satisfied: numpy>=1.17 in /usr/local/lib/python3.10/dist-packages (from transformers) (1.22.4)\n",
            "Requirement already satisfied: packaging>=20.0 in /usr/local/lib/python3.10/dist-packages (from transformers) (23.1)\n",
            "Requirement already satisfied: pyyaml>=5.1 in /usr/local/lib/python3.10/dist-packages (from transformers) (6.0.1)\n",
            "Requirement already satisfied: regex!=2019.12.17 in /usr/local/lib/python3.10/dist-packages (from transformers) (2022.10.31)\n",
            "Requirement already satisfied: requests in /usr/local/lib/python3.10/dist-packages (from transformers) (2.27.1)\n",
            "Requirement already satisfied: tokenizers!=0.11.3,<0.14,>=0.11.1 in /usr/local/lib/python3.10/dist-packages (from transformers) (0.13.3)\n",
            "Requirement already satisfied: safetensors>=0.3.1 in /usr/local/lib/python3.10/dist-packages (from transformers) (0.3.1)\n",
            "Requirement already satisfied: tqdm>=4.27 in /usr/local/lib/python3.10/dist-packages (from transformers) (4.65.0)\n",
            "Requirement already satisfied: fsspec in /usr/local/lib/python3.10/dist-packages (from huggingface-hub<1.0,>=0.14.1->transformers) (2023.6.0)\n",
            "Requirement already satisfied: typing-extensions>=3.7.4.3 in /usr/local/lib/python3.10/dist-packages (from huggingface-hub<1.0,>=0.14.1->transformers) (4.7.1)\n",
            "Requirement already satisfied: urllib3<1.27,>=1.21.1 in /usr/local/lib/python3.10/dist-packages (from requests->transformers) (1.26.16)\n",
            "Requirement already satisfied: certifi>=2017.4.17 in /usr/local/lib/python3.10/dist-packages (from requests->transformers) (2023.7.22)\n",
            "Requirement already satisfied: charset-normalizer~=2.0.0 in /usr/local/lib/python3.10/dist-packages (from requests->transformers) (2.0.12)\n",
            "Requirement already satisfied: idna<4,>=2.5 in /usr/local/lib/python3.10/dist-packages (from requests->transformers) (3.4)\n"
          ]
        }
      ]
    },
    {
      "cell_type": "code",
      "source": [
        "df2 = df.head().copy()\n",
        "df2"
      ],
      "metadata": {
        "colab": {
          "base_uri": "https://localhost:8080/",
          "height": 545
        },
        "id": "4Ih9H6pH-X5L",
        "outputId": "84167441-84c9-4b2f-fed6-8127048ce1ce"
      },
      "execution_count": 119,
      "outputs": [
        {
          "output_type": "execute_result",
          "data": {
            "text/plain": [
              "   Unnamed: 0                 date  \\\n",
              "0           0  2023-07-13 06:01:30   \n",
              "1           1  2023-07-13 06:01:32   \n",
              "2           2  2023-07-13 06:01:33   \n",
              "3           3  2023-07-13 06:02:01   \n",
              "4           4  2023-07-13 06:02:01   \n",
              "\n",
              "                                         title  \\\n",
              "0  \"차라리 자진 말소하겠다\"...임대인들, 보증보험 요건 강화·명단 공개에 반발   \n",
              "1      [단맛의 세계]② “칼로리 안 낮은데?” 믿었던 ‘제로’ 마케팅의 배신   \n",
              "2          \"전세 사기보다 치솟은 월세가 더 무섭다\"…월세 수요 한풀 꺾여   \n",
              "3                  [마켓PRO 칼럼] 셈법 복잡해진 한국은행 금통위   \n",
              "4                일주일 만에 두 배 뛴 금양…시장서는 ‘이게 맞아?’   \n",
              "\n",
              "                                             content press  \\\n",
              "0  국토부, 7월 중 임대보증금 보증보험 가입요건 126% 강화 민간임대 특별법 시행령...   뉴시스   \n",
              "1  작년 9월 출시 후 선풍적인 인기를 끈 롯데칠성음료의 처음처럼 새로(이하 새로)는 ...  조선비즈   \n",
              "2  6월 기준 서울 전세비중 51%대 회복…월세 급등에 전세로 선회 전세대출 금리 3%...   뉴시스   \n",
              "3  ※한경 마켓PRO 텔레그램을 구독하시면 프리미엄 투자 콘텐츠를 보다 편리하게 볼 수...  한국경제   \n",
              "4  8거래일간 100% 넘게 뛰다 12일 10%대 급락 시총 6兆 근접…한국항공우주·L...  이데일리   \n",
              "\n",
              "                                                link  \\\n",
              "0  https://n.news.naver.com/mnews/article/003/001...   \n",
              "1  https://n.news.naver.com/mnews/article/366/000...   \n",
              "2  https://n.news.naver.com/mnews/article/003/001...   \n",
              "3  https://n.news.naver.com/mnews/article/015/000...   \n",
              "4  https://n.news.naver.com/mnews/article/018/000...   \n",
              "\n",
              "                                   title_p  \\\n",
              "0  차라리 자진 말소하겠다 임대인들, 보증보험 요건 강화 명단 공개에 반발   \n",
              "1          단맛의 세계 칼로리 안 낮은데 믿었던 제로 마케팅의 배신   \n",
              "2        전세 사기보다 치솟은 월세가 더 무섭다 월세 수요 한풀 꺾여   \n",
              "3                마켓PRO 칼럼 셈법 복잡해진 한국은행 금통위   \n",
              "4               일주일 만에 두 배 뛴 금양 시장서는 이게 맞아   \n",
              "\n",
              "                                           content_p   len  \\\n",
              "0  국토부, 7월 중 임대보증금 보증보험 가입요건 126퍼센트 강화 민간임대 특별법 시...  2081   \n",
              "1  작년 9월 출시 후 선풍적인 인기를 끈 롯데칠성음료의 처음처럼 새로 이하 새로 는 ...  1901   \n",
              "2  6월 기준 서울 전세비중 51퍼센트대 회복 월세 급등에 전세로 선회 전세대출 금리 ...  1850   \n",
              "3  한경 마켓PRO 텔레그램을 구독하시면 프리미엄 투자 콘텐츠를 보다 편리하게 볼 수 ...  1802   \n",
              "4  8거래일간 100퍼센트 넘게 뛰다 12일 10퍼센트대 급락 시총 6조 근접 한국항공...  1645   \n",
              "\n",
              "                                         collocation  \\\n",
              "0  [2년 연속, 특별법 시행, 민간 임대주택, 126 퍼센트, 보증 보험, 등록 말소...   \n",
              "1                                            [제로 슈거]   \n",
              "2  [지난 5월, 임대 수요, 서울 아파트, 퍼센트 대로, 대출 규제, 대출 금리, 평...   \n",
              "3                            [마켓 PRO, 소비자 물가, 금리 인상]   \n",
              "4                                           [한국 거래소]   \n",
              "\n",
              "                                         TF-keywords  \\\n",
              "0  ['임대보증금', '공시가격의', '임대인', '특별법', '보증금', '임대인들이...   \n",
              "1  ['제로', '열량은', '말티톨은', '발암', '설탕', '아스파탐', '다이어...   \n",
              "2  ['월세', '전세', '대출', '아파트', '전세대출', '전세로', '수요가'...   \n",
              "3  ['듯하다', '소비자물가는', '안으로는', '금리인상을', '마켓pro', '여...   \n",
              "4  ['2차전지', '금양의', '공매도', '금양', '주가', '원을', '금양에'...   \n",
              "\n",
              "                         new_key  \\\n",
              "0    [임대보증금, 공시가격, 임대, 특별법, 보증금]   \n",
              "1          [제로, 열량, 말티톨, 발암, 설탕]   \n",
              "2        [월세, 전세, 대출, 아파트, 전세대출]   \n",
              "3  [소비자물가, 금리인상, 마켓pro, 고용, 가운데]   \n",
              "4      [금양, 공매도, 주가, 발포, 한국항공우주]   \n",
              "\n",
              "                                          merged_col  \n",
              "0  [가입 요건, 보증금, 보증금 반환 보증, 전세 보증금 반환, 임대, 특별법, 임대...  \n",
              "1                       [제로 슈거, 설탕, 제로, 열량, 발암, 말티톨]  \n",
              "2  [서울 아파트, 대출 금리, 전세 대출 금리, 월세 가격, 전세대출, 아파트 월세,...  \n",
              "3  [금리인상, 금리 인상, 소비자물가, 마켓 PRO, 소비자 물가, 마켓pro, 고용...  \n",
              "4                  [주가, 공매도, 발포, 한국항공우주, 금양, 한국 거래소]  "
            ],
            "text/html": [
              "\n",
              "\n",
              "  <div id=\"df-8158e40e-5a8e-4e20-af01-125b6f3180e1\">\n",
              "    <div class=\"colab-df-container\">\n",
              "      <div>\n",
              "<style scoped>\n",
              "    .dataframe tbody tr th:only-of-type {\n",
              "        vertical-align: middle;\n",
              "    }\n",
              "\n",
              "    .dataframe tbody tr th {\n",
              "        vertical-align: top;\n",
              "    }\n",
              "\n",
              "    .dataframe thead th {\n",
              "        text-align: right;\n",
              "    }\n",
              "</style>\n",
              "<table border=\"1\" class=\"dataframe\">\n",
              "  <thead>\n",
              "    <tr style=\"text-align: right;\">\n",
              "      <th></th>\n",
              "      <th>Unnamed: 0</th>\n",
              "      <th>date</th>\n",
              "      <th>title</th>\n",
              "      <th>content</th>\n",
              "      <th>press</th>\n",
              "      <th>link</th>\n",
              "      <th>title_p</th>\n",
              "      <th>content_p</th>\n",
              "      <th>len</th>\n",
              "      <th>collocation</th>\n",
              "      <th>TF-keywords</th>\n",
              "      <th>new_key</th>\n",
              "      <th>merged_col</th>\n",
              "    </tr>\n",
              "  </thead>\n",
              "  <tbody>\n",
              "    <tr>\n",
              "      <th>0</th>\n",
              "      <td>0</td>\n",
              "      <td>2023-07-13 06:01:30</td>\n",
              "      <td>\"차라리 자진 말소하겠다\"...임대인들, 보증보험 요건 강화·명단 공개에 반발</td>\n",
              "      <td>국토부, 7월 중 임대보증금 보증보험 가입요건 126% 강화 민간임대 특별법 시행령...</td>\n",
              "      <td>뉴시스</td>\n",
              "      <td>https://n.news.naver.com/mnews/article/003/001...</td>\n",
              "      <td>차라리 자진 말소하겠다 임대인들, 보증보험 요건 강화 명단 공개에 반발</td>\n",
              "      <td>국토부, 7월 중 임대보증금 보증보험 가입요건 126퍼센트 강화 민간임대 특별법 시...</td>\n",
              "      <td>2081</td>\n",
              "      <td>[2년 연속, 특별법 시행, 민간 임대주택, 126 퍼센트, 보증 보험, 등록 말소...</td>\n",
              "      <td>['임대보증금', '공시가격의', '임대인', '특별법', '보증금', '임대인들이...</td>\n",
              "      <td>[임대보증금, 공시가격, 임대, 특별법, 보증금]</td>\n",
              "      <td>[가입 요건, 보증금, 보증금 반환 보증, 전세 보증금 반환, 임대, 특별법, 임대...</td>\n",
              "    </tr>\n",
              "    <tr>\n",
              "      <th>1</th>\n",
              "      <td>1</td>\n",
              "      <td>2023-07-13 06:01:32</td>\n",
              "      <td>[단맛의 세계]② “칼로리 안 낮은데?” 믿었던 ‘제로’ 마케팅의 배신</td>\n",
              "      <td>작년 9월 출시 후 선풍적인 인기를 끈 롯데칠성음료의 처음처럼 새로(이하 새로)는 ...</td>\n",
              "      <td>조선비즈</td>\n",
              "      <td>https://n.news.naver.com/mnews/article/366/000...</td>\n",
              "      <td>단맛의 세계 칼로리 안 낮은데 믿었던 제로 마케팅의 배신</td>\n",
              "      <td>작년 9월 출시 후 선풍적인 인기를 끈 롯데칠성음료의 처음처럼 새로 이하 새로 는 ...</td>\n",
              "      <td>1901</td>\n",
              "      <td>[제로 슈거]</td>\n",
              "      <td>['제로', '열량은', '말티톨은', '발암', '설탕', '아스파탐', '다이어...</td>\n",
              "      <td>[제로, 열량, 말티톨, 발암, 설탕]</td>\n",
              "      <td>[제로 슈거, 설탕, 제로, 열량, 발암, 말티톨]</td>\n",
              "    </tr>\n",
              "    <tr>\n",
              "      <th>2</th>\n",
              "      <td>2</td>\n",
              "      <td>2023-07-13 06:01:33</td>\n",
              "      <td>\"전세 사기보다 치솟은 월세가 더 무섭다\"…월세 수요 한풀 꺾여</td>\n",
              "      <td>6월 기준 서울 전세비중 51%대 회복…월세 급등에 전세로 선회 전세대출 금리 3%...</td>\n",
              "      <td>뉴시스</td>\n",
              "      <td>https://n.news.naver.com/mnews/article/003/001...</td>\n",
              "      <td>전세 사기보다 치솟은 월세가 더 무섭다 월세 수요 한풀 꺾여</td>\n",
              "      <td>6월 기준 서울 전세비중 51퍼센트대 회복 월세 급등에 전세로 선회 전세대출 금리 ...</td>\n",
              "      <td>1850</td>\n",
              "      <td>[지난 5월, 임대 수요, 서울 아파트, 퍼센트 대로, 대출 규제, 대출 금리, 평...</td>\n",
              "      <td>['월세', '전세', '대출', '아파트', '전세대출', '전세로', '수요가'...</td>\n",
              "      <td>[월세, 전세, 대출, 아파트, 전세대출]</td>\n",
              "      <td>[서울 아파트, 대출 금리, 전세 대출 금리, 월세 가격, 전세대출, 아파트 월세,...</td>\n",
              "    </tr>\n",
              "    <tr>\n",
              "      <th>3</th>\n",
              "      <td>3</td>\n",
              "      <td>2023-07-13 06:02:01</td>\n",
              "      <td>[마켓PRO 칼럼] 셈법 복잡해진 한국은행 금통위</td>\n",
              "      <td>※한경 마켓PRO 텔레그램을 구독하시면 프리미엄 투자 콘텐츠를 보다 편리하게 볼 수...</td>\n",
              "      <td>한국경제</td>\n",
              "      <td>https://n.news.naver.com/mnews/article/015/000...</td>\n",
              "      <td>마켓PRO 칼럼 셈법 복잡해진 한국은행 금통위</td>\n",
              "      <td>한경 마켓PRO 텔레그램을 구독하시면 프리미엄 투자 콘텐츠를 보다 편리하게 볼 수 ...</td>\n",
              "      <td>1802</td>\n",
              "      <td>[마켓 PRO, 소비자 물가, 금리 인상]</td>\n",
              "      <td>['듯하다', '소비자물가는', '안으로는', '금리인상을', '마켓pro', '여...</td>\n",
              "      <td>[소비자물가, 금리인상, 마켓pro, 고용, 가운데]</td>\n",
              "      <td>[금리인상, 금리 인상, 소비자물가, 마켓 PRO, 소비자 물가, 마켓pro, 고용...</td>\n",
              "    </tr>\n",
              "    <tr>\n",
              "      <th>4</th>\n",
              "      <td>4</td>\n",
              "      <td>2023-07-13 06:02:01</td>\n",
              "      <td>일주일 만에 두 배 뛴 금양…시장서는 ‘이게 맞아?’</td>\n",
              "      <td>8거래일간 100% 넘게 뛰다 12일 10%대 급락 시총 6兆 근접…한국항공우주·L...</td>\n",
              "      <td>이데일리</td>\n",
              "      <td>https://n.news.naver.com/mnews/article/018/000...</td>\n",
              "      <td>일주일 만에 두 배 뛴 금양 시장서는 이게 맞아</td>\n",
              "      <td>8거래일간 100퍼센트 넘게 뛰다 12일 10퍼센트대 급락 시총 6조 근접 한국항공...</td>\n",
              "      <td>1645</td>\n",
              "      <td>[한국 거래소]</td>\n",
              "      <td>['2차전지', '금양의', '공매도', '금양', '주가', '원을', '금양에'...</td>\n",
              "      <td>[금양, 공매도, 주가, 발포, 한국항공우주]</td>\n",
              "      <td>[주가, 공매도, 발포, 한국항공우주, 금양, 한국 거래소]</td>\n",
              "    </tr>\n",
              "  </tbody>\n",
              "</table>\n",
              "</div>\n",
              "      <button class=\"colab-df-convert\" onclick=\"convertToInteractive('df-8158e40e-5a8e-4e20-af01-125b6f3180e1')\"\n",
              "              title=\"Convert this dataframe to an interactive table.\"\n",
              "              style=\"display:none;\">\n",
              "\n",
              "  <svg xmlns=\"http://www.w3.org/2000/svg\" height=\"24px\"viewBox=\"0 0 24 24\"\n",
              "       width=\"24px\">\n",
              "    <path d=\"M0 0h24v24H0V0z\" fill=\"none\"/>\n",
              "    <path d=\"M18.56 5.44l.94 2.06.94-2.06 2.06-.94-2.06-.94-.94-2.06-.94 2.06-2.06.94zm-11 1L8.5 8.5l.94-2.06 2.06-.94-2.06-.94L8.5 2.5l-.94 2.06-2.06.94zm10 10l.94 2.06.94-2.06 2.06-.94-2.06-.94-.94-2.06-.94 2.06-2.06.94z\"/><path d=\"M17.41 7.96l-1.37-1.37c-.4-.4-.92-.59-1.43-.59-.52 0-1.04.2-1.43.59L10.3 9.45l-7.72 7.72c-.78.78-.78 2.05 0 2.83L4 21.41c.39.39.9.59 1.41.59.51 0 1.02-.2 1.41-.59l7.78-7.78 2.81-2.81c.8-.78.8-2.07 0-2.86zM5.41 20L4 18.59l7.72-7.72 1.47 1.35L5.41 20z\"/>\n",
              "  </svg>\n",
              "      </button>\n",
              "\n",
              "\n",
              "\n",
              "    <div id=\"df-d8788d40-1257-4524-bbc5-7854e8ec1545\">\n",
              "      <button class=\"colab-df-quickchart\" onclick=\"quickchart('df-d8788d40-1257-4524-bbc5-7854e8ec1545')\"\n",
              "              title=\"Suggest charts.\"\n",
              "              style=\"display:none;\">\n",
              "\n",
              "<svg xmlns=\"http://www.w3.org/2000/svg\" height=\"24px\"viewBox=\"0 0 24 24\"\n",
              "     width=\"24px\">\n",
              "    <g>\n",
              "        <path d=\"M19 3H5c-1.1 0-2 .9-2 2v14c0 1.1.9 2 2 2h14c1.1 0 2-.9 2-2V5c0-1.1-.9-2-2-2zM9 17H7v-7h2v7zm4 0h-2V7h2v10zm4 0h-2v-4h2v4z\"/>\n",
              "    </g>\n",
              "</svg>\n",
              "      </button>\n",
              "    </div>\n",
              "\n",
              "<style>\n",
              "  .colab-df-quickchart {\n",
              "    background-color: #E8F0FE;\n",
              "    border: none;\n",
              "    border-radius: 50%;\n",
              "    cursor: pointer;\n",
              "    display: none;\n",
              "    fill: #1967D2;\n",
              "    height: 32px;\n",
              "    padding: 0 0 0 0;\n",
              "    width: 32px;\n",
              "  }\n",
              "\n",
              "  .colab-df-quickchart:hover {\n",
              "    background-color: #E2EBFA;\n",
              "    box-shadow: 0px 1px 2px rgba(60, 64, 67, 0.3), 0px 1px 3px 1px rgba(60, 64, 67, 0.15);\n",
              "    fill: #174EA6;\n",
              "  }\n",
              "\n",
              "  [theme=dark] .colab-df-quickchart {\n",
              "    background-color: #3B4455;\n",
              "    fill: #D2E3FC;\n",
              "  }\n",
              "\n",
              "  [theme=dark] .colab-df-quickchart:hover {\n",
              "    background-color: #434B5C;\n",
              "    box-shadow: 0px 1px 3px 1px rgba(0, 0, 0, 0.15);\n",
              "    filter: drop-shadow(0px 1px 2px rgba(0, 0, 0, 0.3));\n",
              "    fill: #FFFFFF;\n",
              "  }\n",
              "</style>\n",
              "\n",
              "    <script>\n",
              "      async function quickchart(key) {\n",
              "        const containerElement = document.querySelector('#' + key);\n",
              "        const charts = await google.colab.kernel.invokeFunction(\n",
              "            'suggestCharts', [key], {});\n",
              "      }\n",
              "    </script>\n",
              "\n",
              "      <script>\n",
              "\n",
              "function displayQuickchartButton(domScope) {\n",
              "  let quickchartButtonEl =\n",
              "    domScope.querySelector('#df-d8788d40-1257-4524-bbc5-7854e8ec1545 button.colab-df-quickchart');\n",
              "  quickchartButtonEl.style.display =\n",
              "    google.colab.kernel.accessAllowed ? 'block' : 'none';\n",
              "}\n",
              "\n",
              "        displayQuickchartButton(document);\n",
              "      </script>\n",
              "      <style>\n",
              "    .colab-df-container {\n",
              "      display:flex;\n",
              "      flex-wrap:wrap;\n",
              "      gap: 12px;\n",
              "    }\n",
              "\n",
              "    .colab-df-convert {\n",
              "      background-color: #E8F0FE;\n",
              "      border: none;\n",
              "      border-radius: 50%;\n",
              "      cursor: pointer;\n",
              "      display: none;\n",
              "      fill: #1967D2;\n",
              "      height: 32px;\n",
              "      padding: 0 0 0 0;\n",
              "      width: 32px;\n",
              "    }\n",
              "\n",
              "    .colab-df-convert:hover {\n",
              "      background-color: #E2EBFA;\n",
              "      box-shadow: 0px 1px 2px rgba(60, 64, 67, 0.3), 0px 1px 3px 1px rgba(60, 64, 67, 0.15);\n",
              "      fill: #174EA6;\n",
              "    }\n",
              "\n",
              "    [theme=dark] .colab-df-convert {\n",
              "      background-color: #3B4455;\n",
              "      fill: #D2E3FC;\n",
              "    }\n",
              "\n",
              "    [theme=dark] .colab-df-convert:hover {\n",
              "      background-color: #434B5C;\n",
              "      box-shadow: 0px 1px 3px 1px rgba(0, 0, 0, 0.15);\n",
              "      filter: drop-shadow(0px 1px 2px rgba(0, 0, 0, 0.3));\n",
              "      fill: #FFFFFF;\n",
              "    }\n",
              "  </style>\n",
              "\n",
              "      <script>\n",
              "        const buttonEl =\n",
              "          document.querySelector('#df-8158e40e-5a8e-4e20-af01-125b6f3180e1 button.colab-df-convert');\n",
              "        buttonEl.style.display =\n",
              "          google.colab.kernel.accessAllowed ? 'block' : 'none';\n",
              "\n",
              "        async function convertToInteractive(key) {\n",
              "          const element = document.querySelector('#df-8158e40e-5a8e-4e20-af01-125b6f3180e1');\n",
              "          const dataTable =\n",
              "            await google.colab.kernel.invokeFunction('convertToInteractive',\n",
              "                                                     [key], {});\n",
              "          if (!dataTable) return;\n",
              "\n",
              "          const docLinkHtml = 'Like what you see? Visit the ' +\n",
              "            '<a target=\"_blank\" href=https://colab.research.google.com/notebooks/data_table.ipynb>data table notebook</a>'\n",
              "            + ' to learn more about interactive tables.';\n",
              "          element.innerHTML = '';\n",
              "          dataTable['output_type'] = 'display_data';\n",
              "          await google.colab.output.renderOutput(dataTable, element);\n",
              "          const docLink = document.createElement('div');\n",
              "          docLink.innerHTML = docLinkHtml;\n",
              "          element.appendChild(docLink);\n",
              "        }\n",
              "      </script>\n",
              "    </div>\n",
              "  </div>\n"
            ]
          },
          "metadata": {},
          "execution_count": 119
        }
      ]
    },
    {
      "cell_type": "code",
      "source": [
        "# ROBERTA를 사용하여 벡터화 진행\n",
        "import numpy as np\n",
        "import torch\n",
        "from sklearn.preprocessing import normalize\n",
        "from transformers import AutoTokenizer, AutoModel\n",
        "from sklearn.metrics.pairwise import cosine_similarity"
      ],
      "metadata": {
        "id": "4P05KsDtCeZE"
      },
      "execution_count": 17,
      "outputs": []
    },
    {
      "cell_type": "code",
      "source": [
        "# RoBERTa 모델과 토크나이저 불러오기\n",
        "model_name = \"roberta-base\"\n",
        "tokenizer = AutoTokenizer.from_pretrained(model_name)\n",
        "model = AutoModel.from_pretrained(model_name)"
      ],
      "metadata": {
        "colab": {
          "base_uri": "https://localhost:8080/"
        },
        "id": "SGVC1gZMCjuH",
        "outputId": "9cbcadce-abb6-484c-b128-38b33c84e371"
      },
      "execution_count": 18,
      "outputs": [
        {
          "output_type": "stream",
          "name": "stderr",
          "text": [
            "Some weights of RobertaModel were not initialized from the model checkpoint at roberta-base and are newly initialized: ['roberta.pooler.dense.bias', 'roberta.pooler.dense.weight']\n",
            "You should probably TRAIN this model on a down-stream task to be able to use it for predictions and inference.\n"
          ]
        }
      ]
    },
    {
      "cell_type": "code",
      "source": [
        "# RoBERTa 모델로 텍스트 벡터화하는 함수 정의\n",
        "def vectorize_text(text):\n",
        "    input_ids = tokenizer.encode(text, padding='max_length', truncation=True, return_tensors='pt')\n",
        "    with torch.no_grad():\n",
        "        output = model(input_ids)\n",
        "    return output.last_hidden_state.mean(dim=1).squeeze().numpy()\n",
        "\n",
        "# 개별 키워드들을 벡터화하여 2D 배열로 구성하는 함수 정의\n",
        "def vectorize_individual_keywords(keywords):\n",
        "    keyword_vectors = np.array([vectorize_keywords([keyword]) for keyword in keywords])\n",
        "    return keyword_vectors\n",
        "\n",
        "\n",
        "# 제목과 본문을 벡터화하여 가중합을 계산하는 함수 정의\n",
        "def calculate_combined_vector(title_vector, body_vector, alpha=0.7, beta=0.3):\n",
        "    combined_vector = alpha * title_vector + beta * body_vector\n",
        "    return normalize([combined_vector])[0]"
      ],
      "metadata": {
        "id": "XlnPFL4nCl0-"
      },
      "execution_count": 19,
      "outputs": []
    },
    {
      "cell_type": "code",
      "source": [
        "# 데이터프레임에 새로운 열 추가\n",
        "df['title_vector'] = df['title_p'].apply(vectorize_text)\n",
        "df['body_vector'] = df['content_p'].apply(vectorize_text)"
      ],
      "metadata": {
        "colab": {
          "base_uri": "https://localhost:8080/"
        },
        "id": "eoU7TaCbClxb",
        "outputId": "cf7e641f-6ec9-4b02-f733-f82806f308b8"
      },
      "execution_count": null,
      "outputs": [
        {
          "output_type": "stream",
          "name": "stderr",
          "text": [
            "We strongly recommend passing in an `attention_mask` since your input_ids may be padded. See https://huggingface.co/docs/transformers/troubleshooting#incorrect-output-when-padding-tokens-arent-masked.\n"
          ]
        }
      ]
    },
    {
      "cell_type": "code",
      "source": [
        "# 제목과 본문을 가중합하여 의미 벡터를 생성하고 정규화\n",
        "alpha = 0.7  # 제목 벡터 가중치\n",
        "beta = 0.3   # 본문 벡터 가중치\n",
        "df['combined_vector'] = df.apply(lambda row: calculate_combined_vector(row['title_vector'], row['body_vector'], alpha, beta), axis=1)"
      ],
      "metadata": {
        "id": "zyld05QOClu6"
      },
      "execution_count": null,
      "outputs": []
    },
    {
      "cell_type": "code",
      "source": [
        "# 키워드를 벡터화\n",
        "df['keyword_vectors'] = df['merged_col'].apply(vectorize_individual_keywords)"
      ],
      "metadata": {
        "id": "AkNQTxq0Clsl"
      },
      "execution_count": null,
      "outputs": []
    },
    {
      "cell_type": "code",
      "source": [
        "# 코사인 유사도 함수 정의\n",
        "def calculate_cosine_similarity(combined_vector, keyword_vectors):\n",
        "    similarity_scores = cosine_similarity([combined_vector], keyword_vectors)\n",
        "    return similarity_scores[0]"
      ],
      "metadata": {
        "id": "SmdMtvvRCvui"
      },
      "execution_count": null,
      "outputs": []
    },
    {
      "cell_type": "code",
      "source": [
        "# 의미 벡터와 키워드 벡터 간의 코사인 유사도 계산\n",
        "df['cosine_similarity'] = df.apply(lambda row: calculate_cosine_similarity(row['combined_vector'], row['keyword_vectors']), axis=1)"
      ],
      "metadata": {
        "id": "1Ac5ewv1CyIe"
      },
      "execution_count": null,
      "outputs": []
    },
    {
      "cell_type": "code",
      "source": [
        "# 선택된 상위 K개의 키워드 출력\n",
        "K = 5\n",
        "df['selected_keywords'] = df.apply(lambda row: [row['merged_col'][i] for i in np.argsort(row['cosine_similarity'])[-K:]], axis=1)\n",
        "print(df[['title_p', 'content_p', 'selected_keywords']])"
      ],
      "metadata": {
        "colab": {
          "base_uri": "https://localhost:8080/"
        },
        "id": "VZegTgP79EHs",
        "outputId": "e966e07e-54da-46d2-b74f-198ea38280d3"
      },
      "execution_count": 121,
      "outputs": [
        {
          "output_type": "stream",
          "name": "stderr",
          "text": [
            "Some weights of RobertaModel were not initialized from the model checkpoint at roberta-base and are newly initialized: ['roberta.pooler.dense.weight', 'roberta.pooler.dense.bias']\n",
            "You should probably TRAIN this model on a down-stream task to be able to use it for predictions and inference.\n"
          ]
        },
        {
          "output_type": "stream",
          "name": "stdout",
          "text": [
            "                                   title_p  \\\n",
            "0  차라리 자진 말소하겠다 임대인들, 보증보험 요건 강화 명단 공개에 반발   \n",
            "1          단맛의 세계 칼로리 안 낮은데 믿었던 제로 마케팅의 배신   \n",
            "2        전세 사기보다 치솟은 월세가 더 무섭다 월세 수요 한풀 꺾여   \n",
            "3                마켓PRO 칼럼 셈법 복잡해진 한국은행 금통위   \n",
            "4               일주일 만에 두 배 뛴 금양 시장서는 이게 맞아   \n",
            "\n",
            "                                           content_p  \\\n",
            "0  국토부, 7월 중 임대보증금 보증보험 가입요건 126퍼센트 강화 민간임대 특별법 시...   \n",
            "1  작년 9월 출시 후 선풍적인 인기를 끈 롯데칠성음료의 처음처럼 새로 이하 새로 는 ...   \n",
            "2  6월 기준 서울 전세비중 51퍼센트대 회복 월세 급등에 전세로 선회 전세대출 금리 ...   \n",
            "3  한경 마켓PRO 텔레그램을 구독하시면 프리미엄 투자 콘텐츠를 보다 편리하게 볼 수 ...   \n",
            "4  8거래일간 100퍼센트 넘게 뛰다 12일 10퍼센트대 급락 시총 6조 근접 한국항공...   \n",
            "\n",
            "           selected_keywords  \n",
            "0  [임대 보증금 보증 보험, 임대 보증금 보증]  \n",
            "1                [제로, 제로 슈거]  \n",
            "2            [대출 규제, 서울 아파트]  \n",
            "3             [소비자 물가, 금리인상]  \n",
            "4           [한국 거래소, 한국항공우주]  \n"
          ]
        }
      ]
    },
    {
      "cell_type": "code",
      "source": [
        "df.to_excel('Final_keyword.xlsx', index=False)  # index=False를 지정하여 인덱스를 파일에 포함하지 않습니다."
      ],
      "metadata": {
        "id": "fbzSkEK5DMp_"
      },
      "execution_count": null,
      "outputs": []
    },
    {
      "cell_type": "code",
      "source": [
        "df['merged_col'][:30]"
      ],
      "metadata": {
        "colab": {
          "base_uri": "https://localhost:8080/"
        },
        "id": "AKZXRhPMCCeJ",
        "outputId": "170aeed2-fc8b-418c-d37e-809fed94aafc"
      },
      "execution_count": 123,
      "outputs": [
        {
          "output_type": "execute_result",
          "data": {
            "text/plain": [
              "0     [가입 요건, 보증금, 보증금 반환 보증, 전세 보증금 반환, 임대, 특별법, 임대...\n",
              "1                          [제로 슈거, 설탕, 제로, 열량, 발암, 말티톨]\n",
              "2     [서울 아파트, 대출 금리, 전세 대출 금리, 월세 가격, 전세대출, 아파트 월세,...\n",
              "3     [금리인상, 금리 인상, 소비자물가, 마켓 PRO, 소비자 물가, 마켓pro, 고용...\n",
              "4                     [주가, 공매도, 발포, 한국항공우주, 금양, 한국 거래소]\n",
              "5           [주당 0.2, 투자자, 유상증자, 으로 유상증자, 무상증자, 기업, 보통주]\n",
              "6      [지수, arm, 이후 최저, p500, 금리 인상, 브로드컴, cpi, 퍼센트 상승]\n",
              "7                     [가상자산, 하루베스트, 박씨, 출금, 피해자, 가상 자산]\n",
              "8     [3.0 퍼센트, 정권, 근원, 근원 CPI, 금리 인상, 지난 6월, 인플레이션,...\n",
              "9     [자금 수요, 가계대출, 영향 으로, 은행권 가계 대출, 증가, 전체 가계, 신용 ...\n",
              "10    [공장 에선, 자동차 강판, 강판, 생산, 슬래브, 기아 오토 랜드, 기아 오토 랜...\n",
              "11    [시장 에서, 넘긴 카카오 페이, 페이 손보, 미니보험, 악사 손해 보험, 보험 시...\n",
              "12    [유니켐, 사내이사, 25 퍼센트, 사외이사, 소액 주주, 보유 하고, 사내 이사,...\n",
              "13    [하향 우위, 나신 평의 상향, 크레딧 업계, 등급, 상향, 평의 상향, 하향 배율...\n",
              "14    [음식물, 음식, 위탁 급식, 부분 위탁, 노인, 연하 도움, 중이, 부분 위탁 급...\n",
              "15    [불법, 퍼센트 까지, 20 퍼센트, 사라진 150만, 사채 업자, 법정 최고, 부...\n",
              "16    [증시, 지수, 퍼센트 올랐다, 금리 인상, 퍼센트 오른, 둔화, cpi, 침체, ...\n",
              "17    [20 퍼센트, 불법 사금융, 법정 최고, 시중 은행, 대부 업자, 이름, 부업, ...\n",
              "18     [6월 CPI, 1퍼센트p, 지수, 마감, 금리 인상, cpi, 최저, 마감 했습니다]\n",
              "19    [디지털 보험사, EZ 손보, 출범, 신한 EZ, 가입 기간, 장기 보험, 사업 모...\n",
              "20                              [호주, 1년, 브라질, 러시아, 12위]\n",
              "21    [10퍼센트대, 차환, PF 시장, 사업장, 브릿지론, 10 퍼센트, pf, 투자 업계]\n",
              "22    [김씨, 파악 된다, 으로 파악, 웨스트포인트, 지난 3월, 손실 구간, 웨스트포인...\n",
              "23    [조사 관리, 대행 체제, 개월 만에, 직무대행, 직무 대행, 조사관리관, 1급, ...\n",
              "24    [시장 에서, 디지털 보험사, 수익성, 흑자 전환, 보험 시장, 장기 보험, 보험 ...\n",
              "25                     [20 퍼센트, 최고, 거래, 도봉구, 20퍼센트, 5분]\n",
              "26                   [금리인상, 금리 인상, 앵커, 기자, cpi, 이코노미스트]\n",
              "27    [전지소재, 하나 증권, 전지 소재, 증권, 목표주가, 종가 기준, 100만원, L...\n",
              "28    [지주사, 소송 결과, 손해 보험, 지주사 전환, 따라 MG 손보, 교보생명, 교보...\n",
              "29    [국토교통부, 장관, kbs, 예비 타당성, 원희룡 국토교통부, 국토교통부 장관, ...\n",
              "Name: merged_col, dtype: object"
            ]
          },
          "metadata": {},
          "execution_count": 123
        }
      ]
    },
    {
      "cell_type": "code",
      "source": [],
      "metadata": {
        "id": "fepy-Kx7nVx9"
      },
      "execution_count": null,
      "outputs": []
    }
  ]
}