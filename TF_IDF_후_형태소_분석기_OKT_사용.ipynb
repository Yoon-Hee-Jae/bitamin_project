{
  "nbformat": 4,
  "nbformat_minor": 0,
  "metadata": {
    "colab": {
      "provenance": [],
      "gpuType": "T4"
    },
    "kernelspec": {
      "name": "python3",
      "display_name": "Python 3"
    },
    "language_info": {
      "name": "python"
    },
    "accelerator": "GPU"
  },
  "cells": [
    {
      "cell_type": "code",
      "execution_count": 1,
      "metadata": {
        "colab": {
          "base_uri": "https://localhost:8080/"
        },
        "id": "d5uaHTiWhjdS",
        "outputId": "a76324e1-20fe-458e-8977-757d0880a69d"
      },
      "outputs": [
        {
          "output_type": "stream",
          "name": "stdout",
          "text": [
            "Collecting transformers\n",
            "  Downloading transformers-4.31.0-py3-none-any.whl (7.4 MB)\n",
            "\u001b[2K     \u001b[90m━━━━━━━━━━━━━━━━━━━━━━━━━━━━━━━━━━━━━━━━\u001b[0m \u001b[32m7.4/7.4 MB\u001b[0m \u001b[31m20.1 MB/s\u001b[0m eta \u001b[36m0:00:00\u001b[0m\n",
            "\u001b[?25hRequirement already satisfied: filelock in /usr/local/lib/python3.10/dist-packages (from transformers) (3.12.2)\n",
            "Collecting huggingface-hub<1.0,>=0.14.1 (from transformers)\n",
            "  Downloading huggingface_hub-0.16.4-py3-none-any.whl (268 kB)\n",
            "\u001b[2K     \u001b[90m━━━━━━━━━━━━━━━━━━━━━━━━━━━━━━━━━━━━━━\u001b[0m \u001b[32m268.8/268.8 kB\u001b[0m \u001b[31m25.1 MB/s\u001b[0m eta \u001b[36m0:00:00\u001b[0m\n",
            "\u001b[?25hRequirement already satisfied: numpy>=1.17 in /usr/local/lib/python3.10/dist-packages (from transformers) (1.22.4)\n",
            "Requirement already satisfied: packaging>=20.0 in /usr/local/lib/python3.10/dist-packages (from transformers) (23.1)\n",
            "Requirement already satisfied: pyyaml>=5.1 in /usr/local/lib/python3.10/dist-packages (from transformers) (6.0.1)\n",
            "Requirement already satisfied: regex!=2019.12.17 in /usr/local/lib/python3.10/dist-packages (from transformers) (2022.10.31)\n",
            "Requirement already satisfied: requests in /usr/local/lib/python3.10/dist-packages (from transformers) (2.27.1)\n",
            "Collecting tokenizers!=0.11.3,<0.14,>=0.11.1 (from transformers)\n",
            "  Downloading tokenizers-0.13.3-cp310-cp310-manylinux_2_17_x86_64.manylinux2014_x86_64.whl (7.8 MB)\n",
            "\u001b[2K     \u001b[90m━━━━━━━━━━━━━━━━━━━━━━━━━━━━━━━━━━━━━━━━\u001b[0m \u001b[32m7.8/7.8 MB\u001b[0m \u001b[31m27.0 MB/s\u001b[0m eta \u001b[36m0:00:00\u001b[0m\n",
            "\u001b[?25hCollecting safetensors>=0.3.1 (from transformers)\n",
            "  Downloading safetensors-0.3.1-cp310-cp310-manylinux_2_17_x86_64.manylinux2014_x86_64.whl (1.3 MB)\n",
            "\u001b[2K     \u001b[90m━━━━━━━━━━━━━━━━━━━━━━━━━━━━━━━━━━━━━━━━\u001b[0m \u001b[32m1.3/1.3 MB\u001b[0m \u001b[31m26.4 MB/s\u001b[0m eta \u001b[36m0:00:00\u001b[0m\n",
            "\u001b[?25hRequirement already satisfied: tqdm>=4.27 in /usr/local/lib/python3.10/dist-packages (from transformers) (4.65.0)\n",
            "Requirement already satisfied: fsspec in /usr/local/lib/python3.10/dist-packages (from huggingface-hub<1.0,>=0.14.1->transformers) (2023.6.0)\n",
            "Requirement already satisfied: typing-extensions>=3.7.4.3 in /usr/local/lib/python3.10/dist-packages (from huggingface-hub<1.0,>=0.14.1->transformers) (4.7.1)\n",
            "Requirement already satisfied: urllib3<1.27,>=1.21.1 in /usr/local/lib/python3.10/dist-packages (from requests->transformers) (1.26.16)\n",
            "Requirement already satisfied: certifi>=2017.4.17 in /usr/local/lib/python3.10/dist-packages (from requests->transformers) (2023.7.22)\n",
            "Requirement already satisfied: charset-normalizer~=2.0.0 in /usr/local/lib/python3.10/dist-packages (from requests->transformers) (2.0.12)\n",
            "Requirement already satisfied: idna<4,>=2.5 in /usr/local/lib/python3.10/dist-packages (from requests->transformers) (3.4)\n",
            "Installing collected packages: tokenizers, safetensors, huggingface-hub, transformers\n",
            "Successfully installed huggingface-hub-0.16.4 safetensors-0.3.1 tokenizers-0.13.3 transformers-4.31.0\n"
          ]
        }
      ],
      "source": [
        "!pip install transformers"
      ]
    },
    {
      "cell_type": "code",
      "source": [
        "import pandas as pd"
      ],
      "metadata": {
        "id": "aR8rbq9zhodC"
      },
      "execution_count": 2,
      "outputs": []
    },
    {
      "cell_type": "code",
      "source": [
        "df = df = pd.read_excel(\"/content/drive/MyDrive/Colab Notebooks/news_0713-0714.xlsx\")\n",
        "df1 = df.head(10)\n",
        "df1"
      ],
      "metadata": {
        "colab": {
          "base_uri": "https://localhost:8080/",
          "height": 363
        },
        "id": "QEVhFh-zh2sv",
        "outputId": "3e659622-9d61-44ea-cf4a-62a9bc3eeaeb"
      },
      "execution_count": 226,
      "outputs": [
        {
          "output_type": "execute_result",
          "data": {
            "text/plain": [
              "   Unnamed: 0                 date  \\\n",
              "0           0  2023-07-13 06:01:30   \n",
              "1           1  2023-07-13 06:01:32   \n",
              "2           2  2023-07-13 06:01:33   \n",
              "3           3  2023-07-13 06:02:01   \n",
              "4           4  2023-07-13 06:02:01   \n",
              "5           5  2023-07-13 06:02:02   \n",
              "6           6  2023-07-13 06:02:56   \n",
              "7           7  2023-07-13 06:05:00   \n",
              "8           8  2023-07-13 06:07:59   \n",
              "9           9  2023-07-13 06:08:08   \n",
              "\n",
              "                                         title  \\\n",
              "0  \"차라리 자진 말소하겠다\"...임대인들, 보증보험 요건 강화·명단 공개에 반발   \n",
              "1      [단맛의 세계]② “칼로리 안 낮은데?” 믿었던 ‘제로’ 마케팅의 배신   \n",
              "2          \"전세 사기보다 치솟은 월세가 더 무섭다\"…월세 수요 한풀 꺾여   \n",
              "3                  [마켓PRO 칼럼] 셈법 복잡해진 한국은행 금통위   \n",
              "4                일주일 만에 두 배 뛴 금양…시장서는 ‘이게 맞아?’   \n",
              "5                 유상증자 이후 ‘쥐꼬리 무증’에 냉가슴 앓는 개미들   \n",
              "6         [뉴욕마감]나스닥 1% 안도 랠리…CPI 3%에 약해진 금리 압박   \n",
              "7       온 가족 돈 당긴 20억 코인 한달째 묶여…\"매일 약 먹고 잠 든다\"   \n",
              "8           물가가 Fed 사정권에 들어왔다…증시에 새 추동력 [뉴욕마감]   \n",
              "9          아파트 거래·입주 물량 증가… 은행권 주담대 한달 새 7조 급증   \n",
              "\n",
              "                                             content  press  \\\n",
              "0  국토부, 7월 중 임대보증금 보증보험 가입요건 126% 강화 민간임대 특별법 시행령...    뉴시스   \n",
              "1  작년 9월 출시 후 선풍적인 인기를 끈 롯데칠성음료의 처음처럼 새로(이하 새로)는 ...   조선비즈   \n",
              "2  6월 기준 서울 전세비중 51%대 회복…월세 급등에 전세로 선회 전세대출 금리 3%...    뉴시스   \n",
              "3  ※한경 마켓PRO 텔레그램을 구독하시면 프리미엄 투자 콘텐츠를 보다 편리하게 볼 수...   한국경제   \n",
              "4  8거래일간 100% 넘게 뛰다 12일 10%대 급락 시총 6兆 근접…한국항공우주·L...   이데일리   \n",
              "5  유·무상증자를 동시에 추진하는 기업들이 속출하고 있다. 일반적으로 유상증자는 기업들...   국민일보   \n",
              "6  (서울=뉴스1) 신기림 기자 = 미국 뉴욕 증시가 인플레이션 둔화에 상승했다. 소비...    뉴스1   \n",
              "7  [코인 인사이트] [편집자주] '코인 인사이트'는 가상자산(암호화폐) 시장의 주요 ...  머니투데이   \n",
              "8  뉴욕증시가 인플레이션이 예상보다 낮아 목표 사정권에 들어왔다는 소식으로 인해 랠리를...  머니투데이   \n",
              "9  한은 ‘6월 금융시장 동향’ 주택 구매 늘자 가계대출 5.9조 증가  잔액 1062...   세계일보   \n",
              "\n",
              "                                                link  \n",
              "0  https://n.news.naver.com/mnews/article/003/001...  \n",
              "1  https://n.news.naver.com/mnews/article/366/000...  \n",
              "2  https://n.news.naver.com/mnews/article/003/001...  \n",
              "3  https://n.news.naver.com/mnews/article/015/000...  \n",
              "4  https://n.news.naver.com/mnews/article/018/000...  \n",
              "5  https://n.news.naver.com/mnews/article/005/000...  \n",
              "6  https://n.news.naver.com/mnews/article/421/000...  \n",
              "7  https://n.news.naver.com/mnews/article/008/000...  \n",
              "8  https://n.news.naver.com/mnews/article/008/000...  \n",
              "9  https://n.news.naver.com/mnews/article/022/000...  "
            ],
            "text/html": [
              "\n",
              "\n",
              "  <div id=\"df-491ca14a-d43e-4766-bbef-b6c5e1f9f51d\">\n",
              "    <div class=\"colab-df-container\">\n",
              "      <div>\n",
              "<style scoped>\n",
              "    .dataframe tbody tr th:only-of-type {\n",
              "        vertical-align: middle;\n",
              "    }\n",
              "\n",
              "    .dataframe tbody tr th {\n",
              "        vertical-align: top;\n",
              "    }\n",
              "\n",
              "    .dataframe thead th {\n",
              "        text-align: right;\n",
              "    }\n",
              "</style>\n",
              "<table border=\"1\" class=\"dataframe\">\n",
              "  <thead>\n",
              "    <tr style=\"text-align: right;\">\n",
              "      <th></th>\n",
              "      <th>Unnamed: 0</th>\n",
              "      <th>date</th>\n",
              "      <th>title</th>\n",
              "      <th>content</th>\n",
              "      <th>press</th>\n",
              "      <th>link</th>\n",
              "    </tr>\n",
              "  </thead>\n",
              "  <tbody>\n",
              "    <tr>\n",
              "      <th>0</th>\n",
              "      <td>0</td>\n",
              "      <td>2023-07-13 06:01:30</td>\n",
              "      <td>\"차라리 자진 말소하겠다\"...임대인들, 보증보험 요건 강화·명단 공개에 반발</td>\n",
              "      <td>국토부, 7월 중 임대보증금 보증보험 가입요건 126% 강화 민간임대 특별법 시행령...</td>\n",
              "      <td>뉴시스</td>\n",
              "      <td>https://n.news.naver.com/mnews/article/003/001...</td>\n",
              "    </tr>\n",
              "    <tr>\n",
              "      <th>1</th>\n",
              "      <td>1</td>\n",
              "      <td>2023-07-13 06:01:32</td>\n",
              "      <td>[단맛의 세계]② “칼로리 안 낮은데?” 믿었던 ‘제로’ 마케팅의 배신</td>\n",
              "      <td>작년 9월 출시 후 선풍적인 인기를 끈 롯데칠성음료의 처음처럼 새로(이하 새로)는 ...</td>\n",
              "      <td>조선비즈</td>\n",
              "      <td>https://n.news.naver.com/mnews/article/366/000...</td>\n",
              "    </tr>\n",
              "    <tr>\n",
              "      <th>2</th>\n",
              "      <td>2</td>\n",
              "      <td>2023-07-13 06:01:33</td>\n",
              "      <td>\"전세 사기보다 치솟은 월세가 더 무섭다\"…월세 수요 한풀 꺾여</td>\n",
              "      <td>6월 기준 서울 전세비중 51%대 회복…월세 급등에 전세로 선회 전세대출 금리 3%...</td>\n",
              "      <td>뉴시스</td>\n",
              "      <td>https://n.news.naver.com/mnews/article/003/001...</td>\n",
              "    </tr>\n",
              "    <tr>\n",
              "      <th>3</th>\n",
              "      <td>3</td>\n",
              "      <td>2023-07-13 06:02:01</td>\n",
              "      <td>[마켓PRO 칼럼] 셈법 복잡해진 한국은행 금통위</td>\n",
              "      <td>※한경 마켓PRO 텔레그램을 구독하시면 프리미엄 투자 콘텐츠를 보다 편리하게 볼 수...</td>\n",
              "      <td>한국경제</td>\n",
              "      <td>https://n.news.naver.com/mnews/article/015/000...</td>\n",
              "    </tr>\n",
              "    <tr>\n",
              "      <th>4</th>\n",
              "      <td>4</td>\n",
              "      <td>2023-07-13 06:02:01</td>\n",
              "      <td>일주일 만에 두 배 뛴 금양…시장서는 ‘이게 맞아?’</td>\n",
              "      <td>8거래일간 100% 넘게 뛰다 12일 10%대 급락 시총 6兆 근접…한국항공우주·L...</td>\n",
              "      <td>이데일리</td>\n",
              "      <td>https://n.news.naver.com/mnews/article/018/000...</td>\n",
              "    </tr>\n",
              "    <tr>\n",
              "      <th>5</th>\n",
              "      <td>5</td>\n",
              "      <td>2023-07-13 06:02:02</td>\n",
              "      <td>유상증자 이후 ‘쥐꼬리 무증’에 냉가슴 앓는 개미들</td>\n",
              "      <td>유·무상증자를 동시에 추진하는 기업들이 속출하고 있다. 일반적으로 유상증자는 기업들...</td>\n",
              "      <td>국민일보</td>\n",
              "      <td>https://n.news.naver.com/mnews/article/005/000...</td>\n",
              "    </tr>\n",
              "    <tr>\n",
              "      <th>6</th>\n",
              "      <td>6</td>\n",
              "      <td>2023-07-13 06:02:56</td>\n",
              "      <td>[뉴욕마감]나스닥 1% 안도 랠리…CPI 3%에 약해진 금리 압박</td>\n",
              "      <td>(서울=뉴스1) 신기림 기자 = 미국 뉴욕 증시가 인플레이션 둔화에 상승했다. 소비...</td>\n",
              "      <td>뉴스1</td>\n",
              "      <td>https://n.news.naver.com/mnews/article/421/000...</td>\n",
              "    </tr>\n",
              "    <tr>\n",
              "      <th>7</th>\n",
              "      <td>7</td>\n",
              "      <td>2023-07-13 06:05:00</td>\n",
              "      <td>온 가족 돈 당긴 20억 코인 한달째 묶여…\"매일 약 먹고 잠 든다\"</td>\n",
              "      <td>[코인 인사이트] [편집자주] '코인 인사이트'는 가상자산(암호화폐) 시장의 주요 ...</td>\n",
              "      <td>머니투데이</td>\n",
              "      <td>https://n.news.naver.com/mnews/article/008/000...</td>\n",
              "    </tr>\n",
              "    <tr>\n",
              "      <th>8</th>\n",
              "      <td>8</td>\n",
              "      <td>2023-07-13 06:07:59</td>\n",
              "      <td>물가가 Fed 사정권에 들어왔다…증시에 새 추동력 [뉴욕마감]</td>\n",
              "      <td>뉴욕증시가 인플레이션이 예상보다 낮아 목표 사정권에 들어왔다는 소식으로 인해 랠리를...</td>\n",
              "      <td>머니투데이</td>\n",
              "      <td>https://n.news.naver.com/mnews/article/008/000...</td>\n",
              "    </tr>\n",
              "    <tr>\n",
              "      <th>9</th>\n",
              "      <td>9</td>\n",
              "      <td>2023-07-13 06:08:08</td>\n",
              "      <td>아파트 거래·입주 물량 증가… 은행권 주담대 한달 새 7조 급증</td>\n",
              "      <td>한은 ‘6월 금융시장 동향’ 주택 구매 늘자 가계대출 5.9조 증가  잔액 1062...</td>\n",
              "      <td>세계일보</td>\n",
              "      <td>https://n.news.naver.com/mnews/article/022/000...</td>\n",
              "    </tr>\n",
              "  </tbody>\n",
              "</table>\n",
              "</div>\n",
              "      <button class=\"colab-df-convert\" onclick=\"convertToInteractive('df-491ca14a-d43e-4766-bbef-b6c5e1f9f51d')\"\n",
              "              title=\"Convert this dataframe to an interactive table.\"\n",
              "              style=\"display:none;\">\n",
              "\n",
              "  <svg xmlns=\"http://www.w3.org/2000/svg\" height=\"24px\"viewBox=\"0 0 24 24\"\n",
              "       width=\"24px\">\n",
              "    <path d=\"M0 0h24v24H0V0z\" fill=\"none\"/>\n",
              "    <path d=\"M18.56 5.44l.94 2.06.94-2.06 2.06-.94-2.06-.94-.94-2.06-.94 2.06-2.06.94zm-11 1L8.5 8.5l.94-2.06 2.06-.94-2.06-.94L8.5 2.5l-.94 2.06-2.06.94zm10 10l.94 2.06.94-2.06 2.06-.94-2.06-.94-.94-2.06-.94 2.06-2.06.94z\"/><path d=\"M17.41 7.96l-1.37-1.37c-.4-.4-.92-.59-1.43-.59-.52 0-1.04.2-1.43.59L10.3 9.45l-7.72 7.72c-.78.78-.78 2.05 0 2.83L4 21.41c.39.39.9.59 1.41.59.51 0 1.02-.2 1.41-.59l7.78-7.78 2.81-2.81c.8-.78.8-2.07 0-2.86zM5.41 20L4 18.59l7.72-7.72 1.47 1.35L5.41 20z\"/>\n",
              "  </svg>\n",
              "      </button>\n",
              "\n",
              "\n",
              "\n",
              "    <div id=\"df-04d9ea97-2ea9-45b1-9c1d-2c0f2a493161\">\n",
              "      <button class=\"colab-df-quickchart\" onclick=\"quickchart('df-04d9ea97-2ea9-45b1-9c1d-2c0f2a493161')\"\n",
              "              title=\"Suggest charts.\"\n",
              "              style=\"display:none;\">\n",
              "\n",
              "<svg xmlns=\"http://www.w3.org/2000/svg\" height=\"24px\"viewBox=\"0 0 24 24\"\n",
              "     width=\"24px\">\n",
              "    <g>\n",
              "        <path d=\"M19 3H5c-1.1 0-2 .9-2 2v14c0 1.1.9 2 2 2h14c1.1 0 2-.9 2-2V5c0-1.1-.9-2-2-2zM9 17H7v-7h2v7zm4 0h-2V7h2v10zm4 0h-2v-4h2v4z\"/>\n",
              "    </g>\n",
              "</svg>\n",
              "      </button>\n",
              "    </div>\n",
              "\n",
              "<style>\n",
              "  .colab-df-quickchart {\n",
              "    background-color: #E8F0FE;\n",
              "    border: none;\n",
              "    border-radius: 50%;\n",
              "    cursor: pointer;\n",
              "    display: none;\n",
              "    fill: #1967D2;\n",
              "    height: 32px;\n",
              "    padding: 0 0 0 0;\n",
              "    width: 32px;\n",
              "  }\n",
              "\n",
              "  .colab-df-quickchart:hover {\n",
              "    background-color: #E2EBFA;\n",
              "    box-shadow: 0px 1px 2px rgba(60, 64, 67, 0.3), 0px 1px 3px 1px rgba(60, 64, 67, 0.15);\n",
              "    fill: #174EA6;\n",
              "  }\n",
              "\n",
              "  [theme=dark] .colab-df-quickchart {\n",
              "    background-color: #3B4455;\n",
              "    fill: #D2E3FC;\n",
              "  }\n",
              "\n",
              "  [theme=dark] .colab-df-quickchart:hover {\n",
              "    background-color: #434B5C;\n",
              "    box-shadow: 0px 1px 3px 1px rgba(0, 0, 0, 0.15);\n",
              "    filter: drop-shadow(0px 1px 2px rgba(0, 0, 0, 0.3));\n",
              "    fill: #FFFFFF;\n",
              "  }\n",
              "</style>\n",
              "\n",
              "    <script>\n",
              "      async function quickchart(key) {\n",
              "        const containerElement = document.querySelector('#' + key);\n",
              "        const charts = await google.colab.kernel.invokeFunction(\n",
              "            'suggestCharts', [key], {});\n",
              "      }\n",
              "    </script>\n",
              "\n",
              "      <script>\n",
              "\n",
              "function displayQuickchartButton(domScope) {\n",
              "  let quickchartButtonEl =\n",
              "    domScope.querySelector('#df-04d9ea97-2ea9-45b1-9c1d-2c0f2a493161 button.colab-df-quickchart');\n",
              "  quickchartButtonEl.style.display =\n",
              "    google.colab.kernel.accessAllowed ? 'block' : 'none';\n",
              "}\n",
              "\n",
              "        displayQuickchartButton(document);\n",
              "      </script>\n",
              "      <style>\n",
              "    .colab-df-container {\n",
              "      display:flex;\n",
              "      flex-wrap:wrap;\n",
              "      gap: 12px;\n",
              "    }\n",
              "\n",
              "    .colab-df-convert {\n",
              "      background-color: #E8F0FE;\n",
              "      border: none;\n",
              "      border-radius: 50%;\n",
              "      cursor: pointer;\n",
              "      display: none;\n",
              "      fill: #1967D2;\n",
              "      height: 32px;\n",
              "      padding: 0 0 0 0;\n",
              "      width: 32px;\n",
              "    }\n",
              "\n",
              "    .colab-df-convert:hover {\n",
              "      background-color: #E2EBFA;\n",
              "      box-shadow: 0px 1px 2px rgba(60, 64, 67, 0.3), 0px 1px 3px 1px rgba(60, 64, 67, 0.15);\n",
              "      fill: #174EA6;\n",
              "    }\n",
              "\n",
              "    [theme=dark] .colab-df-convert {\n",
              "      background-color: #3B4455;\n",
              "      fill: #D2E3FC;\n",
              "    }\n",
              "\n",
              "    [theme=dark] .colab-df-convert:hover {\n",
              "      background-color: #434B5C;\n",
              "      box-shadow: 0px 1px 3px 1px rgba(0, 0, 0, 0.15);\n",
              "      filter: drop-shadow(0px 1px 2px rgba(0, 0, 0, 0.3));\n",
              "      fill: #FFFFFF;\n",
              "    }\n",
              "  </style>\n",
              "\n",
              "      <script>\n",
              "        const buttonEl =\n",
              "          document.querySelector('#df-491ca14a-d43e-4766-bbef-b6c5e1f9f51d button.colab-df-convert');\n",
              "        buttonEl.style.display =\n",
              "          google.colab.kernel.accessAllowed ? 'block' : 'none';\n",
              "\n",
              "        async function convertToInteractive(key) {\n",
              "          const element = document.querySelector('#df-491ca14a-d43e-4766-bbef-b6c5e1f9f51d');\n",
              "          const dataTable =\n",
              "            await google.colab.kernel.invokeFunction('convertToInteractive',\n",
              "                                                     [key], {});\n",
              "          if (!dataTable) return;\n",
              "\n",
              "          const docLinkHtml = 'Like what you see? Visit the ' +\n",
              "            '<a target=\"_blank\" href=https://colab.research.google.com/notebooks/data_table.ipynb>data table notebook</a>'\n",
              "            + ' to learn more about interactive tables.';\n",
              "          element.innerHTML = '';\n",
              "          dataTable['output_type'] = 'display_data';\n",
              "          await google.colab.output.renderOutput(dataTable, element);\n",
              "          const docLink = document.createElement('div');\n",
              "          docLink.innerHTML = docLinkHtml;\n",
              "          element.appendChild(docLink);\n",
              "        }\n",
              "      </script>\n",
              "    </div>\n",
              "  </div>\n"
            ]
          },
          "metadata": {},
          "execution_count": 226
        }
      ]
    },
    {
      "cell_type": "code",
      "source": [
        "df1['keywords'] = None"
      ],
      "metadata": {
        "colab": {
          "base_uri": "https://localhost:8080/"
        },
        "id": "sLU7iBF2h7k9",
        "outputId": "2da26b98-b620-49e1-c103-8b79887585b0"
      },
      "execution_count": 227,
      "outputs": [
        {
          "output_type": "stream",
          "name": "stderr",
          "text": [
            "<ipython-input-227-b6f473577976>:1: SettingWithCopyWarning: \n",
            "A value is trying to be set on a copy of a slice from a DataFrame.\n",
            "Try using .loc[row_indexer,col_indexer] = value instead\n",
            "\n",
            "See the caveats in the documentation: https://pandas.pydata.org/pandas-docs/stable/user_guide/indexing.html#returning-a-view-versus-a-copy\n",
            "  df1['keywords'] = None\n"
          ]
        }
      ]
    },
    {
      "cell_type": "code",
      "source": [
        "# TF-IDF 사용을 위한 라이브러리 설치 및 준비\n",
        "from sklearn.feature_extraction.text import TfidfVectorizer\n",
        "\n",
        "\n",
        "tfidfv = TfidfVectorizer()\n"
      ],
      "metadata": {
        "id": "jQFId2FwjSXn"
      },
      "execution_count": 228,
      "outputs": []
    },
    {
      "cell_type": "code",
      "source": [
        "# TF-IDF를 사영하여 문서 벡터화 진행\n",
        "tfidf_matrix = tfidfv.fit_transform(df1['content'])\n",
        "\n",
        "for i in range(len(df1)):\n",
        "    doc_tfidf = tfidf_matrix[i].toarray().flatten() # 벡터화시킨 것을 다시 문자로\n",
        "    sorted_indices = doc_tfidf.argsort()[::-1] # tf-idf값이 높을수록 중요한 키워드인데 높은 순으로 정렬\n",
        "    top_keywords = [tfidfv.get_feature_names_out()[idx] for idx in sorted_indices[:15]]  # 상위 10개 단어만 추출 # 숫자나 영어 단어만 나올 경우 제거하고 다음 키워드를 올려서 쓸거기 때문에 넉넉히 뽑음\n",
        "    # 키워드를 저장할 빈 리스트 생성\n",
        "    keywords = []\n",
        "    keywords.append(top_keywords)\n",
        "    # 각 행에 알맞은 키워드 부여\n",
        "    df1['keywords'][i] = keywords\n",
        "print(df1['keywords'][:10])"
      ],
      "metadata": {
        "colab": {
          "base_uri": "https://localhost:8080/"
        },
        "id": "KLn4T-cnjSHJ",
        "outputId": "b9003542-8c57-4309-9ebc-25497e4b19de"
      },
      "execution_count": 229,
      "outputs": [
        {
          "output_type": "stream",
          "name": "stderr",
          "text": [
            "<ipython-input-229-5dd2bd73ac2a>:12: SettingWithCopyWarning: \n",
            "A value is trying to be set on a copy of a slice from a DataFrame\n",
            "\n",
            "See the caveats in the documentation: https://pandas.pydata.org/pandas-docs/stable/user_guide/indexing.html#returning-a-view-versus-a-copy\n",
            "  df1['keywords'][i] = keywords\n"
          ]
        },
        {
          "output_type": "stream",
          "name": "stdout",
          "text": [
            "0    [[임대보증금, 126, 임대인, 특별법, 공시가격의, 보증금, 보증보험, 임대인들...\n",
            "1    [[제로, 아스파탐, 발암, 설탕, 말티톨은, 열량은, 당뇨, 카카오, 설탕의, 설...\n",
            "2    [[월세, 전세, 대출, 수요가, 아파트, 서울, 평균, 가격은, 임대, 전세로, ...\n",
            "3    [[가운데, 소비자물가는, 금리인상을, 듯하다, 따라, 만큼, 인해, 국내, 것으로...\n",
            "4    [[2차전지, 주가, 금양의, 공매도, 금양, 원을, 만큼, 사업, 위한, 이날, ...\n",
            "5    [[무상증자를, 1주당, 기업들이, 동시에, 주가가, 대부분, 탓이다, 유상증자를,...\n",
            "6    [[cpi, 지수는, 반도체, 최저를, p500의, 브로드컴은, arm, 로이터에,...\n",
            "7    [[하루인베스트, 가상자산, 등에, 자산, 직장인, 하루인베스트는, 피해자들은, 출...\n",
            "8    [[연준은, 근원, 6월, 주택, 불구하고, 인플레이션이, 사정권에, cpi는, 기...\n",
            "9    [[증가, 가계대출, 은행권, 주담대, 전월, 전체, 늘어난, 감소, 7조원, 가계...\n",
            "Name: keywords, dtype: object\n"
          ]
        }
      ]
    },
    {
      "cell_type": "code",
      "source": [
        "df1['keywords'][0][0]"
      ],
      "metadata": {
        "colab": {
          "base_uri": "https://localhost:8080/"
        },
        "id": "c7pSP7FNmdPI",
        "outputId": "a46962f0-6fe6-4a31-841c-c5f000be4069"
      },
      "execution_count": 230,
      "outputs": [
        {
          "output_type": "execute_result",
          "data": {
            "text/plain": [
              "['임대보증금',\n",
              " '126',\n",
              " '임대인',\n",
              " '특별법',\n",
              " '공시가격의',\n",
              " '보증금',\n",
              " '보증보험',\n",
              " '임대인들이',\n",
              " '집단',\n",
              " '시행령',\n",
              " '민간임대주택에',\n",
              " '가입',\n",
              " '관한',\n",
              " '때문에',\n",
              " '있다']"
            ]
          },
          "metadata": {},
          "execution_count": 230
        }
      ]
    },
    {
      "cell_type": "code",
      "source": [
        "# 키워드들이 리스트 속에 리스트로 저장되어 있기 대문에 리스트 하나를 언패킹해주는 작업이 필요함\n",
        "\n",
        "for i in range(len(df1['keywords'])):\n",
        "  df1['keywords'][i] = df1['keywords'][i][0]\n",
        "\n",
        "df1['keywords'][0]"
      ],
      "metadata": {
        "colab": {
          "base_uri": "https://localhost:8080/"
        },
        "id": "oe44-oVfmmTR",
        "outputId": "10bd3ef7-5a29-4439-a4b0-c37ecf026c30"
      },
      "execution_count": 231,
      "outputs": [
        {
          "output_type": "stream",
          "name": "stderr",
          "text": [
            "<ipython-input-231-966e3433be08>:4: SettingWithCopyWarning: \n",
            "A value is trying to be set on a copy of a slice from a DataFrame\n",
            "\n",
            "See the caveats in the documentation: https://pandas.pydata.org/pandas-docs/stable/user_guide/indexing.html#returning-a-view-versus-a-copy\n",
            "  df1['keywords'][i] = df1['keywords'][i][0]\n"
          ]
        },
        {
          "output_type": "execute_result",
          "data": {
            "text/plain": [
              "['임대보증금',\n",
              " '126',\n",
              " '임대인',\n",
              " '특별법',\n",
              " '공시가격의',\n",
              " '보증금',\n",
              " '보증보험',\n",
              " '임대인들이',\n",
              " '집단',\n",
              " '시행령',\n",
              " '민간임대주택에',\n",
              " '가입',\n",
              " '관한',\n",
              " '때문에',\n",
              " '있다']"
            ]
          },
          "metadata": {},
          "execution_count": 231
        }
      ]
    },
    {
      "cell_type": "code",
      "source": [
        "# TF-IDF를 사용하여 키워드를 잡은 후 추출된 키워들에 붙은 을/를 특수기호 같은 것들을 제거해줌"
      ],
      "metadata": {
        "id": "HNjOFyj7kxPT"
      },
      "execution_count": null,
      "outputs": []
    },
    {
      "cell_type": "code",
      "source": [
        "# okt 형태소 분석기를 위한 라이브러리 설치 및 준비\n",
        "!pip install konlpy\n",
        "\n",
        "from konlpy.tag import Okt"
      ],
      "metadata": {
        "colab": {
          "base_uri": "https://localhost:8080/"
        },
        "id": "J6btFNVhinAw",
        "outputId": "0b819bdf-6e5b-4dbb-fa8d-47e239ac55db"
      },
      "execution_count": 204,
      "outputs": [
        {
          "output_type": "stream",
          "name": "stdout",
          "text": [
            "Requirement already satisfied: konlpy in /usr/local/lib/python3.10/dist-packages (0.6.0)\n",
            "Requirement already satisfied: JPype1>=0.7.0 in /usr/local/lib/python3.10/dist-packages (from konlpy) (1.4.1)\n",
            "Requirement already satisfied: lxml>=4.1.0 in /usr/local/lib/python3.10/dist-packages (from konlpy) (4.9.3)\n",
            "Requirement already satisfied: numpy>=1.6 in /usr/local/lib/python3.10/dist-packages (from konlpy) (1.22.4)\n",
            "Requirement already satisfied: packaging in /usr/local/lib/python3.10/dist-packages (from JPype1>=0.7.0->konlpy) (23.1)\n"
          ]
        }
      ]
    },
    {
      "cell_type": "code",
      "source": [
        "# 형태소 분석기 지정\n",
        "okt = Okt()"
      ],
      "metadata": {
        "id": "lX0IrQx7i53o"
      },
      "execution_count": 232,
      "outputs": []
    },
    {
      "cell_type": "code",
      "source": [
        "df1['new_key'] = None"
      ],
      "metadata": {
        "colab": {
          "base_uri": "https://localhost:8080/"
        },
        "id": "ZmXZjci-neT6",
        "outputId": "7f9eaa0c-f0ed-4be8-d6ff-d44c5ff7d518"
      },
      "execution_count": 233,
      "outputs": [
        {
          "output_type": "stream",
          "name": "stderr",
          "text": [
            "<ipython-input-233-ac6d2ecaa875>:1: SettingWithCopyWarning: \n",
            "A value is trying to be set on a copy of a slice from a DataFrame.\n",
            "Try using .loc[row_indexer,col_indexer] = value instead\n",
            "\n",
            "See the caveats in the documentation: https://pandas.pydata.org/pandas-docs/stable/user_guide/indexing.html#returning-a-view-versus-a-copy\n",
            "  df1['new_key'] = None\n"
          ]
        }
      ]
    },
    {
      "cell_type": "code",
      "source": [
        "len(df1['keywords'][0])"
      ],
      "metadata": {
        "colab": {
          "base_uri": "https://localhost:8080/"
        },
        "id": "cuj5NGCMn4Y9",
        "outputId": "87e34fbb-8130-4d42-fcb3-fd62a5af6b12"
      },
      "execution_count": 234,
      "outputs": [
        {
          "output_type": "execute_result",
          "data": {
            "text/plain": [
              "15"
            ]
          },
          "metadata": {},
          "execution_count": 234
        }
      ]
    },
    {
      "cell_type": "code",
      "source": [
        "# 형태소 분석 결과 확\n",
        "for i in range(len(df1['keywords'])):\n",
        "  for j in range(len(df1['keywords'][i])):\n",
        "    print(okt.pos(df1['keywords'][i][j]))\n"
      ],
      "metadata": {
        "colab": {
          "base_uri": "https://localhost:8080/"
        },
        "id": "7s1YhWHnlSpZ",
        "outputId": "74d5fa1a-28a4-4397-dd2a-27ab34517ead"
      },
      "execution_count": 235,
      "outputs": [
        {
          "output_type": "stream",
          "name": "stdout",
          "text": [
            "[('임대', 'Noun'), ('보증금', 'Noun')]\n",
            "[('126', 'Number')]\n",
            "[('임대', 'Noun'), ('인', 'Josa')]\n",
            "[('특별법', 'Noun')]\n",
            "[('공시가격', 'Noun'), ('의', 'Josa')]\n",
            "[('보증금', 'Noun')]\n",
            "[('보증', 'Noun'), ('보험', 'Noun')]\n",
            "[('임대', 'Noun'), ('인들', 'Josa'), ('이', 'Determiner')]\n",
            "[('집단', 'Noun')]\n",
            "[('시행', 'Noun'), ('령', 'Noun')]\n",
            "[('민간', 'Noun'), ('임대주택', 'Noun'), ('에', 'Josa')]\n",
            "[('가입', 'Noun')]\n",
            "[('관', 'Noun'), ('한', 'Josa')]\n",
            "[('때문', 'Noun'), ('에', 'Josa')]\n",
            "[('있다', 'Adjective')]\n",
            "[('제로', 'Noun')]\n",
            "[('아스파탐', 'Noun')]\n",
            "[('발암', 'Noun')]\n",
            "[('설탕', 'Noun')]\n",
            "[('말티톨', 'Noun'), ('은', 'Josa')]\n",
            "[('열량', 'Noun'), ('은', 'Josa')]\n",
            "[('당뇨', 'Noun')]\n",
            "[('카카오', 'Noun')]\n",
            "[('설탕', 'Noun'), ('의', 'Josa')]\n",
            "[('설탕', 'Noun'), ('이', 'Josa')]\n",
            "[('단맛', 'Noun'), ('을', 'Josa')]\n",
            "[('다이어트', 'Noun'), ('에', 'Josa')]\n",
            "[('혼란', 'Noun'), ('스러워하고', 'Adjective')]\n",
            "[('미만', 'Noun'), ('일', 'Noun')]\n",
            "[('홍보', 'Noun'), ('를', 'Josa')]\n",
            "[('월세', 'Noun')]\n",
            "[('전세', 'Noun')]\n",
            "[('대출', 'Noun')]\n",
            "[('수요', 'Noun'), ('가', 'Josa')]\n",
            "[('아파트', 'Noun')]\n",
            "[('서울', 'Noun')]\n",
            "[('평균', 'Noun')]\n",
            "[('가격', 'Noun'), ('은', 'Josa')]\n",
            "[('임대', 'Noun')]\n",
            "[('전세', 'Noun'), ('로', 'Josa')]\n",
            "[('하반기', 'Noun')]\n",
            "[('전세', 'Noun'), ('대출', 'Noun')]\n",
            "[('금리', 'Noun')]\n",
            "[('주택', 'Noun')]\n",
            "[('5월', 'Number')]\n",
            "[('가운데', 'Noun')]\n",
            "[('소비자', 'Noun'), ('물가', 'Noun'), ('는', 'Josa')]\n",
            "[('금리', 'Noun'), ('인상', 'Noun'), ('을', 'Josa')]\n",
            "[('듯', 'Noun'), ('하다', 'Verb')]\n",
            "[('따라', 'Verb')]\n",
            "[('만큼', 'Noun')]\n",
            "[('인해', 'Adjective')]\n",
            "[('국내', 'Noun')]\n",
            "[('것', 'Noun'), ('으로', 'Josa')]\n",
            "[('있다', 'Adjective')]\n",
            "[('쉽지', 'Verb')]\n",
            "[('물가', 'Noun'), ('에', 'Josa')]\n",
            "[('방향성', 'Noun'), ('을', 'Josa')]\n",
            "[('환율', 'Noun'), ('이', 'Josa')]\n",
            "[('한편', 'Noun')]\n",
            "[('2', 'Number'), ('차전지', 'Verb')]\n",
            "[('주가', 'Noun')]\n",
            "[('금', 'Noun'), ('양', 'Suffix'), ('의', 'Josa')]\n",
            "[('공매도', 'Noun')]\n",
            "[('금', 'Noun'), ('양', 'Suffix')]\n",
            "[('원', 'Noun'), ('을', 'Josa')]\n",
            "[('만큼', 'Noun')]\n",
            "[('사업', 'Noun')]\n",
            "[('위', 'Noun'), ('한', 'Josa')]\n",
            "[('이', 'Determiner'), ('날', 'Noun')]\n",
            "[('10', 'Number')]\n",
            "[('주가', 'Noun'), ('가', 'Josa')]\n",
            "[('성장', 'Noun')]\n",
            "[('원통', 'Noun'), ('형', 'Suffix')]\n",
            "[('금', 'Noun'), ('양', 'Suffix'), ('에', 'Josa')]\n",
            "[('무상증자', 'Noun'), ('를', 'Josa')]\n",
            "[('1', 'Number'), ('주당', 'Verb')]\n",
            "[('기업', 'Noun'), ('들', 'Suffix'), ('이', 'Josa')]\n",
            "[('동시', 'Noun'), ('에', 'Josa')]\n",
            "[('주가', 'Noun'), ('가', 'Josa')]\n",
            "[('대부분', 'Noun')]\n",
            "[('탓', 'Noun'), ('이다', 'Josa')]\n",
            "[('유상증자', 'Noun'), ('를', 'Josa')]\n",
            "[('보통주', 'Noun')]\n",
            "[('투자자', 'Noun'), ('들', 'Suffix'), ('에게', 'Josa')]\n",
            "[('확실한', 'Adjective')]\n",
            "[('실제', 'Noun')]\n",
            "[('일', 'Modifier'), ('반', 'Modifier'), ('공', 'Modifier'), ('모', 'Modifier'), ('방식', 'Noun'), ('으로', 'Josa')]\n",
            "[('일반', 'Noun'), ('적', 'Suffix'), ('으로', 'Josa')]\n",
            "[('2', 'Number'), ('주', 'Noun')]\n",
            "[('cpi', 'Alpha')]\n",
            "[('지수', 'Noun'), ('는', 'Josa')]\n",
            "[('반도체', 'Noun')]\n",
            "[('최저', 'Noun'), ('를', 'Josa')]\n",
            "[('p', 'Alpha'), ('500', 'Number'), ('의', 'Noun')]\n",
            "[('브로드컴', 'Noun'), ('은', 'Josa')]\n",
            "[('arm', 'Alpha')]\n",
            "[('로이터', 'Noun'), ('에', 'Josa')]\n",
            "[('경쟁', 'Noun'), ('사', 'Noun')]\n",
            "[('이후', 'Noun')]\n",
            "[('2021년', 'Number')]\n",
            "[('상승', 'Noun'), ('했다', 'Verb')]\n",
            "[('소식', 'Noun'), ('에', 'Josa')]\n",
            "[('금리', 'Noun'), ('인상', 'Noun')]\n",
            "[('기간', 'Noun')]\n",
            "[('하루', 'Noun'), ('인', 'Josa'), ('베스트', 'Noun')]\n",
            "[('가상', 'Noun'), ('자산', 'Noun')]\n",
            "[('등', 'Noun'), ('에', 'Josa')]\n",
            "[('자산', 'Noun')]\n",
            "[('직장인', 'Noun')]\n",
            "[('하루', 'Noun'), ('인', 'Josa'), ('베스트', 'Noun'), ('는', 'Josa')]\n",
            "[('피해자', 'Noun'), ('들', 'Suffix'), ('은', 'Josa')]\n",
            "[('출금', 'Noun')]\n",
            "[('박씨', 'Noun'), ('는', 'Josa')]\n",
            "[('있다', 'Adjective')]\n",
            "[('라며', 'Noun')]\n",
            "[('국내', 'Noun')]\n",
            "[('하루', 'Noun'), ('인', 'Josa'), ('베스트', 'Noun'), ('를', 'Josa')]\n",
            "[('하루', 'Noun'), ('인', 'Josa'), ('베스트', 'Noun'), ('에', 'Josa')]\n",
            "[('이', 'Determiner'), ('형수', 'Noun')]\n",
            "[('연', 'Modifier'), ('준', 'Noun'), ('은', 'Josa')]\n",
            "[('근원', 'Noun')]\n",
            "[('6월', 'Number')]\n",
            "[('주택', 'Noun')]\n",
            "[('불구', 'Noun'), ('하고', 'Josa')]\n",
            "[('인플레이션', 'Noun'), ('이', 'Josa')]\n",
            "[('사', 'Modifier'), ('정권', 'Noun'), ('에', 'Josa')]\n",
            "[('cpi', 'Alpha'), ('는', 'Verb')]\n",
            "[('기대했다', 'Adjective')]\n",
            "[('원하는', 'Adjective')]\n",
            "[('이', 'Determiner'), ('라며', 'Noun')]\n",
            "[('파월', 'Noun')]\n",
            "[('인해', 'Adjective')]\n",
            "[('연', 'Modifier'), ('준', 'Noun'), ('이', 'Josa')]\n",
            "[('있다는', 'Adjective')]\n",
            "[('증가', 'Noun')]\n",
            "[('가계', 'Noun'), ('대출', 'Noun')]\n",
            "[('은행권', 'Noun')]\n",
            "[('주', 'Modifier'), ('담대', 'Noun')]\n",
            "[('전월', 'Noun')]\n",
            "[('전체', 'Noun')]\n",
            "[('늘어난', 'Verb')]\n",
            "[('감소', 'Noun')]\n",
            "[('7조원', 'Number')]\n",
            "[('가계', 'Noun'), ('대출', 'Noun'), ('은', 'Josa')]\n",
            "[('잔액', 'Noun')]\n",
            "[('기타', 'Noun'), ('대출', 'Noun')]\n",
            "[('가계', 'Noun'), ('대출', 'Noun'), ('도', 'Josa')]\n",
            "[('자금', 'Noun')]\n",
            "[('주', 'Modifier'), ('담대', 'Noun'), ('가', 'Josa')]\n"
          ]
        }
      ]
    },
    {
      "cell_type": "code",
      "source": [
        "# Okt 형태소 분석기 초기화\n",
        "okt = Okt()\n",
        "\n",
        "# 불용어 사전 파일을 읽어와서 불용어 사전 구성\n",
        "with open('/content/drive/MyDrive/Colab Notebooks/stopwords.txt', 'r', encoding='utf-8') as f:\n",
        "    korean_stopwords = set(f.read().splitlines())\n",
        "\n",
        "# 형태소 분석 후 명사와 숫자, 알파벳, 접미사만 남기는 함수 정의\n",
        "def filter_words(text):\n",
        "    morphemes = okt.pos(text)\n",
        "    filtered_words = [word for word, pos in morphemes if pos in ['Noun', 'Number', 'Alpha', 'Suffix'] and word not in korean_stopwords]\n",
        "    return ' '.join(filtered_words)\n",
        "\n",
        "# 빈 리스트 할당\n",
        "df1['new_key'] = [[] for _ in range(len(df1['keywords']))]\n",
        "\n",
        "for i in range(len(df1['keywords'])):\n",
        "    for j in range(len(df1['keywords'][i])):\n",
        "        filtered_words = filter_words(df1['keywords'][i][j])\n",
        "        df1['new_key'][i].append(filtered_words)\n",
        "\n",
        "print(df1['new_key'])\n"
      ],
      "metadata": {
        "colab": {
          "base_uri": "https://localhost:8080/"
        },
        "id": "2JYC4W9G3wF-",
        "outputId": "7823be50-d2c0-464d-fb4f-b770800bee2c"
      },
      "execution_count": 236,
      "outputs": [
        {
          "output_type": "stream",
          "name": "stdout",
          "text": [
            "0    [임대 보증금, 126, 임대, 특별법, 공시가격, 보증금, 보증 보험, 임대, 집...\n",
            "1    [제로, 아스파탐, 발암, 설탕, 말티톨, 열량, 당뇨, 카카오, 설탕, 설탕, 단...\n",
            "2    [월세, 전세, 대출, 수요, 아파트, 서울, 평균, 가격, 임대, 전세, 하반기,...\n",
            "3    [가운데, 소비자 물가, 금리 인상, 듯, , 만큼, , 국내, , , , 물가, ...\n",
            "4    [2, 주가, 금 양, 공매도, 금 양, 원, 만큼, 사업, 위, 날, 10, 주가...\n",
            "5    [무상증자, 1, 기업, 동시, 주가, 대부분, 탓, 유상증자, 보통주, 투자자, ...\n",
            "6    [cpi, 지수, 반도체, 최저, p 500, 브로드컴, arm, 로이터, 경쟁, ...\n",
            "7    [하루 베스트, 가상 자산, , 자산, 직장인, 하루 베스트, 피해자, 출금, 박씨...\n",
            "8    [준, 근원, 6월, 주택, 불구, 인플레이션, 정권, cpi, , , 라며, 파월...\n",
            "9    [증가, 가계 대출, 은행권, 담대, 전월, 전체, , 감소, 7조원, 가계 대출,...\n",
            "Name: new_key, dtype: object\n"
          ]
        },
        {
          "output_type": "stream",
          "name": "stderr",
          "text": [
            "<ipython-input-236-a3acff9b0fa9>:15: SettingWithCopyWarning: \n",
            "A value is trying to be set on a copy of a slice from a DataFrame.\n",
            "Try using .loc[row_indexer,col_indexer] = value instead\n",
            "\n",
            "See the caveats in the documentation: https://pandas.pydata.org/pandas-docs/stable/user_guide/indexing.html#returning-a-view-versus-a-copy\n",
            "  df1['new_key'] = [[] for _ in range(len(df1['keywords']))]\n"
          ]
        }
      ]
    },
    {
      "cell_type": "code",
      "source": [
        "# 어색한 키워드들 확인\n",
        "print(df1['keywords'][4]) # 2차전지 > 2 : 숫자 차전지 : 동사\n",
        "print(df1['keywords'][5]) # 1주당 > 1 : 숫자 주당 : 동사"
      ],
      "metadata": {
        "colab": {
          "base_uri": "https://localhost:8080/"
        },
        "id": "HbrolEmOw0B1",
        "outputId": "3c2d9b96-894e-4f86-b82d-3b52ad75b2e7"
      },
      "execution_count": 237,
      "outputs": [
        {
          "output_type": "stream",
          "name": "stdout",
          "text": [
            "['2차전지', '주가', '금양의', '공매도', '금양', '원을', '만큼', '사업', '위한', '이날', '10', '주가가', '성장', '원통형', '금양에']\n",
            "['무상증자를', '1주당', '기업들이', '동시에', '주가가', '대부분', '탓이다', '유상증자를', '보통주', '투자자들에게', '확실한', '실제', '일반공모방식으로', '일반적으로', '2주']\n"
          ]
        }
      ]
    },
    {
      "cell_type": "code",
      "source": [
        "# 띄어쓰기를 없애는 함수 정의\n",
        "def remove_whitespace(text_list):\n",
        "    return [text.replace(\" \", \"\") for text in text_list]\n",
        "\n",
        "# df1['keywords']에 적용하여 띄어쓰기 없애기\n",
        "df1['new_key'] = df1['new_key'].apply(remove_whitespace)\n",
        "\n",
        "# 각 행에 있는 리스트에서 \" \"이거나 비어있는 인덱스를 제외하는 함수 정의\n",
        "def remove_empty_and_whitespace_from_list(text_list):\n",
        "    # 단어가 1개 이상의 문자로 이루어진 경우에만 유지하도록 조건 추가\n",
        "    return [text for text in text_list if text.strip() != \"\" and len(text) > 1]\n",
        "\n",
        "# df1['keywords']에 적용하여 \" \"이거나 비어있는 인덱스와 하나의 문자로만 이루어진 단어 제외\n",
        "df1['new_key'] = df1['new_key'].apply(remove_empty_and_whitespace_from_list)\n",
        "\n",
        "# 결과 출력\n",
        "print(df1['new_key'])\n"
      ],
      "metadata": {
        "colab": {
          "base_uri": "https://localhost:8080/"
        },
        "id": "oWZNbpLrF0RE",
        "outputId": "a04016c9-a08c-486b-abe3-2b9b24f84e7d"
      },
      "execution_count": 238,
      "outputs": [
        {
          "output_type": "stream",
          "name": "stdout",
          "text": [
            "0    [임대보증금, 126, 임대, 특별법, 공시가격, 보증금, 보증보험, 임대, 집단,...\n",
            "1    [제로, 아스파탐, 발암, 설탕, 말티톨, 열량, 당뇨, 카카오, 설탕, 설탕, 단...\n",
            "2    [월세, 전세, 대출, 수요, 아파트, 서울, 평균, 가격, 임대, 전세, 하반기,...\n",
            "3          [가운데, 소비자물가, 금리인상, 만큼, 국내, 물가, 방향성, 환율, 한편]\n",
            "4       [주가, 금양, 공매도, 금양, 만큼, 사업, 10, 주가, 성장, 원통형, 금양]\n",
            "5    [무상증자, 기업, 동시, 주가, 대부분, 유상증자, 보통주, 투자자, 실제, 방식...\n",
            "6    [cpi, 지수, 반도체, 최저, p500, 브로드컴, arm, 로이터, 경쟁, 이...\n",
            "7    [하루베스트, 가상자산, 자산, 직장인, 하루베스트, 피해자, 출금, 박씨, 라며,...\n",
            "8             [근원, 6월, 주택, 불구, 인플레이션, 정권, cpi, 라며, 파월]\n",
            "9    [증가, 가계대출, 은행권, 담대, 전월, 전체, 감소, 7조원, 가계대출, 잔액,...\n",
            "Name: new_key, dtype: object\n"
          ]
        },
        {
          "output_type": "stream",
          "name": "stderr",
          "text": [
            "<ipython-input-238-b9e0b0553839>:7: SettingWithCopyWarning: \n",
            "A value is trying to be set on a copy of a slice from a DataFrame.\n",
            "Try using .loc[row_indexer,col_indexer] = value instead\n",
            "\n",
            "See the caveats in the documentation: https://pandas.pydata.org/pandas-docs/stable/user_guide/indexing.html#returning-a-view-versus-a-copy\n",
            "  df1['new_key'] = df1['new_key'].apply(remove_whitespace)\n",
            "<ipython-input-238-b9e0b0553839>:15: SettingWithCopyWarning: \n",
            "A value is trying to be set on a copy of a slice from a DataFrame.\n",
            "Try using .loc[row_indexer,col_indexer] = value instead\n",
            "\n",
            "See the caveats in the documentation: https://pandas.pydata.org/pandas-docs/stable/user_guide/indexing.html#returning-a-view-versus-a-copy\n",
            "  df1['new_key'] = df1['new_key'].apply(remove_empty_and_whitespace_from_list)\n"
          ]
        }
      ]
    },
    {
      "cell_type": "code",
      "source": [
        "# 복사본 미리 만들어두기\n",
        "df2 = df1.copy()"
      ],
      "metadata": {
        "id": "J2vVhILgGWuU"
      },
      "execution_count": 241,
      "outputs": []
    },
    {
      "cell_type": "code",
      "source": [
        "# 각 행에 있는 리스트에서 왼쪽에서부터 5개만 남기는 함수 정의\n",
        "def keep_first_5_elements(text_list):\n",
        "    return text_list[:5]\n",
        "\n",
        "# df1['keywords']에 적용하여 각 행에서 왼쪽에서부터 5개만 남기기\n",
        "df2['new_key'] = df2['new_key'].apply(keep_first_5_elements)\n",
        "\n",
        "# 결과 출력\n",
        "print(df2['new_key'])\n",
        "\n",
        "# 같은 단어가 반복되는 경우 존재\n",
        "\n",
        "# 숫자만 있는거는 의미가 딱히 없을 거 같음\n",
        "# 금리 3.6%pt 인상이면 금리인상이라는 키워드만 잡혀도 괜찮지 않을까??\n"
      ],
      "metadata": {
        "colab": {
          "base_uri": "https://localhost:8080/"
        },
        "id": "DUYbWmkH5Tyn",
        "outputId": "4f8b0b0b-ca42-47ea-92c3-2620a52f00ce"
      },
      "execution_count": 242,
      "outputs": [
        {
          "output_type": "stream",
          "name": "stdout",
          "text": [
            "0      [임대보증금, 126, 임대, 특별법, 공시가격]\n",
            "1          [제로, 아스파탐, 발암, 설탕, 말티톨]\n",
            "2            [월세, 전세, 대출, 수요, 아파트]\n",
            "3       [가운데, 소비자물가, 금리인상, 만큼, 국내]\n",
            "4            [주가, 금양, 공매도, 금양, 만큼]\n",
            "5          [무상증자, 기업, 동시, 주가, 대부분]\n",
            "6         [cpi, 지수, 반도체, 최저, p500]\n",
            "7    [하루베스트, 가상자산, 자산, 직장인, 하루베스트]\n",
            "8          [근원, 6월, 주택, 불구, 인플레이션]\n",
            "9          [증가, 가계대출, 은행권, 담대, 전월]\n",
            "Name: new_key, dtype: object\n"
          ]
        }
      ]
    },
    {
      "cell_type": "code",
      "source": [
        "# 중복된 단어는 제외시키고 5개 출력\n",
        "df3 = df1.copy()"
      ],
      "metadata": {
        "id": "gu1afvoKGtie"
      },
      "execution_count": 243,
      "outputs": []
    },
    {
      "cell_type": "code",
      "source": [
        "# 위 기능 함수 정의\n",
        "def select_unique_words(text_list):\n",
        "    unique_words = []\n",
        "    for word in text_list:\n",
        "        if word not in unique_words:\n",
        "            unique_words.append(word)\n",
        "        if len(unique_words) == 5:\n",
        "            break\n",
        "    return unique_words\n",
        "\n",
        "df3['new_key'] = df1['new_key'].apply(select_unique_words)\n",
        "df3['new_key']"
      ],
      "metadata": {
        "colab": {
          "base_uri": "https://localhost:8080/"
        },
        "id": "dqgmCLeqHUe-",
        "outputId": "aef71a11-9e23-4ab9-9931-fc8fbaf0f6c8"
      },
      "execution_count": 244,
      "outputs": [
        {
          "output_type": "execute_result",
          "data": {
            "text/plain": [
              "0    [임대보증금, 126, 임대, 특별법, 공시가격]\n",
              "1        [제로, 아스파탐, 발암, 설탕, 말티톨]\n",
              "2          [월세, 전세, 대출, 수요, 아파트]\n",
              "3     [가운데, 소비자물가, 금리인상, 만큼, 국내]\n",
              "4          [주가, 금양, 공매도, 만큼, 사업]\n",
              "5        [무상증자, 기업, 동시, 주가, 대부분]\n",
              "6       [cpi, 지수, 반도체, 최저, p500]\n",
              "7    [하루베스트, 가상자산, 자산, 직장인, 피해자]\n",
              "8        [근원, 6월, 주택, 불구, 인플레이션]\n",
              "9        [증가, 가계대출, 은행권, 담대, 전월]\n",
              "Name: new_key, dtype: object"
            ]
          },
          "metadata": {},
          "execution_count": 244
        }
      ]
    },
    {
      "cell_type": "code",
      "source": [
        "df1['content'][9]"
      ],
      "metadata": {
        "colab": {
          "base_uri": "https://localhost:8080/",
          "height": 238
        },
        "id": "2V4HkxD8Hutm",
        "outputId": "4e91827c-67bf-4b6f-e7da-fbd8e29b3003"
      },
      "execution_count": 246,
      "outputs": [
        {
          "output_type": "execute_result",
          "data": {
            "text/plain": [
              "'한은 ‘6월 금융시장 동향’ 주택 구매 늘자 가계대출 5.9조 증가  잔액 1062조 역대 최고치 경신 전체 가계대출도 석 달 연속 늘어 신용대출 등 기타대출 1.1조 줄어 제2금융권 가계대출도 2.4조 급감 주담대, 전세보증금 반환 등 많아 투기 수요로 인한 과열 우려 없어 지난달 은행권 가계대출 잔액이 6조원 가까이 늘면서 3개월 연속 증가했다. 주택 구입 자금 수요 및 입주물량 증가 등의 영향으로 주택담보대출(주담대) 잔액이 한 달 새 7조원 급증하면서 가계대출 증가세를 이끌었다. 은행권 주담대 증가 영향으로 전체 금융권 가계대출도 석 달 연속 늘어났다.   \\xa0         지난 11일 서울 시내의 은행 대출 창구에서 한 시민이 대출 상담을 받고 있다. 뉴시스     한국은행이 12일 발표한 ‘2023년 6월 중 금융시장 동향’에 따르면 지난달 말 기준 예금은행의 가계대출(정책모기지론 포함) 잔액은 전월 대비 5조9000억원 늘어난 1062조3000억원으로 역대 최고치를 경신했다. 가계대출 증가 폭은 2021년 9월(6조4000억원) 이후 1년9개월 만에 가장 컸다.    은행권 가계대출 잔액은 올해 들어 지난 3월까지 전월 대비 감소세를 보이다가 4월에 증가로 전환했고, 지난달까지 증가세를 이어갔다. 증가 폭도 지난 4월 2조3000억원에서 5월 4조2000억원, 지난달 5조원대로 점차 커지고 있다.       전체 가계대출 가운데 전세자금대출을 포함한 주담대 잔액(814조8000억원)이 전월 대비 7조원 급증했다. 은행권 주담대 증가 폭은 2020년 2월(7조8000억원) 이후 3년4개월 만에 가장 큰 수준이다. 한은은 “주택구입 관련 자금 수요 확대와 입주물량 증가, 전세자금대출 증가 전환 등으로 주담대가 큰 폭으로 늘었다”고 설명했다.    국토교통부와 부동산114에 따르면 올해 1월 1만9000가구 수준이었던 전국 아파트 매매거래량은 지난 5월 3만7000가구로 늘었다. 전국 아파트 입주물량 역시 1월 2만2000가구에서 지난달 4만2000가구로 뛰었다.         12일 서울 시내 한 은행에 걸린 금리 안내 현수막. 뉴스1     신용대출 등 기타대출 잔액(246조1000억원)은 전월 대비 1조1000억원 줄면서 전월(500억원 감소)보다 감소 폭이 확대됐다. 한은은 지난 5월 나타났던 여행 및 가정의 달 소비와 관련한 자금 수요 확대 등의 계절요인이 소멸하면서 은행권 기타대출 감소 폭이 커졌다고 분석했다.    윤옥자 한은 시장총괄팀 차장은 “은행 주담대 증가 규모만 놓고 보면 수치가 커 보이는 것은 사실”이라면서도 “과거에는 신용대출이나 비은행 가계대출이 함께 늘어났는데, 최근에는 정책모기지론 취급 증가 및 (주택 관련) 대출규제 완화 영향으로 은행권 주담대만 크게 늘어나는 경향이 있어서 이런 점을 감안해 전체 가계대출 흐름을 파악할 필요가 있다”고 설명했다.         사진=뉴시스     금융위원회와 금융감독원이 이날 발표한 6월 가계대출 동향에 따르면 은행권과 제2금융권을 포함한 전(全) 금융권 가계대출은 지난달 3조5000억원 증가했다. 3개월 연속 증가세다. 은행권 가계대출은 늘어난 반면 제2금융권 가계대출은 2조4000억원 감소했다.    은행권 주담대가 늘어난 것이 전체 가계대출 증가로 이어졌다. 주담대는 제2금융권에서 6000억원 줄었지만, 은행권에서 7조원 늘어나 전체적으로 6조4000억원 불어났다.    금융당국은 “주담대가 계속 늘어나고 있지만, 주택거래량이 예년 수준에 못 미치고 주담대 중 일부가 전세보증금 반환, 생계자금 마련 등 주택구매 이외 목적인 경우가 많다”며 투기 수요로 인한 과열을 우려할 수준은 아니라고 진단했다.'"
            ],
            "application/vnd.google.colaboratory.intrinsic+json": {
              "type": "string"
            }
          },
          "metadata": {},
          "execution_count": 246
        }
      ]
    }
  ]
}